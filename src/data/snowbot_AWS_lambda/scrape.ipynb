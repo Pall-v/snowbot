{
 "cells": [
  {
   "cell_type": "code",
   "execution_count": 9,
   "metadata": {},
   "outputs": [],
   "source": [
    "import requests, json, boto3\n",
    "from datetime import datetime"
   ]
  },
  {
   "cell_type": "code",
   "execution_count": 10,
   "metadata": {},
   "outputs": [],
   "source": [
    "def get_data():\n",
    "    lifts_res = requests.get('http://www.epicmix.com/vailresorts/sites/epicmix/api/mobile/lifts.ashx')\n",
    "    lifts_res.raise_for_status()\n",
    "    weather_res = requests.get('http://www.epicmix.com/vailresorts/sites/epicmix/api/mobile/weather.ashx')\n",
    "    weather_res.raise_for_status()\n",
    "    terrain_res = requests.get('http://www.epicmix.com/vailresorts/sites/epicmix/api/mobile/terrain.ashx')\n",
    "    terrain_res.raise_for_status()\n",
    "\n",
    "    lifts_json = json.dumps({'timestamp': str(datetime.now()), 'lifts': lifts_res.json()})\n",
    "    \n",
    "    return lifts_json\n",
    "\n",
    "\n"
   ]
  },
  {
   "cell_type": "code",
   "execution_count": 11,
   "metadata": {},
   "outputs": [],
   "source": [
    "def handler(event, context):\n",
    "    \n",
    "    session = boto3.Session()\n",
    "    credentials = session.get_credentials()\n",
    "    credentials = credentials.get_frozen_credentials()\n",
    "\n",
    "    cur_dt = \"{:%B %d, %Y}\".format(datetime.now())\n",
    "\n",
    "    BUCKET_NAME = 'snowbot-pv'\n",
    "    FILE_NAME = cur_dt + \"ADD_LABEL_HERE.json\"\n",
    "\n",
    "    data = get_data()\n",
    "\n",
    "    # S3 Connect\n",
    "    s3 = session.resource(\n",
    "        's3'\n",
    "    )\n",
    "\n",
    "    # Uploaded File\n",
    "    s3.Bucket(BUCKET_NAME).put_object(Key=FILE_NAME, Body=data)"
   ]
  },
  {
   "cell_type": "code",
   "execution_count": 12,
   "metadata": {},
   "outputs": [],
   "source": [
    "handler('', '')"
   ]
  },
  {
   "cell_type": "code",
   "execution_count": 13,
   "metadata": {},
   "outputs": [
    {
     "name": "stdout",
     "output_type": "stream",
     "text": [
      "Python 3.7.3\r\n"
     ]
    }
   ],
   "source": [
    "!python --version"
   ]
  },
  {
   "cell_type": "code",
   "execution_count": 25,
   "metadata": {},
   "outputs": [
    {
     "data": {
      "text/plain": [
       "1"
      ]
     },
     "execution_count": 25,
     "metadata": {},
     "output_type": "execute_result"
    }
   ],
   "source": [
    "lifts_res = lifts_res = requests.get('http://www.epicmix.com/vailresorts/sites/epicmix/api/mobile/lifts.ashx')\n",
    "lifts = json.loads(lifts_res.text)[\"lifts\"]\n",
    "type(lifts)\n",
    "lifts[0][\"resortID\"]"
   ]
  },
  {
   "cell_type": "code",
   "execution_count": 18,
   "metadata": {},
   "outputs": [
    {
     "data": {
      "text/plain": [
       "str"
      ]
     },
     "execution_count": 18,
     "metadata": {},
     "output_type": "execute_result"
    }
   ],
   "source": [
    "type(lifts_res.text)"
   ]
  },
  {
   "cell_type": "code",
   "execution_count": 34,
   "metadata": {},
   "outputs": [
    {
     "ename": "AttributeError",
     "evalue": "'list' object has no attribute 'json'",
     "output_type": "error",
     "traceback": [
      "\u001b[0;31m---------------------------------------------------------------------------\u001b[0m",
      "\u001b[0;31mAttributeError\u001b[0m                            Traceback (most recent call last)",
      "\u001b[0;32m<ipython-input-34-25fdf78a2449>\u001b[0m in \u001b[0;36m<module>\u001b[0;34m\u001b[0m\n\u001b[1;32m      7\u001b[0m \u001b[0;31m# Write filtered TODOs to file.\u001b[0m\u001b[0;34m\u001b[0m\u001b[0;34m\u001b[0m\u001b[0;34m\u001b[0m\u001b[0m\n\u001b[1;32m      8\u001b[0m \u001b[0mwhis_lifts\u001b[0m \u001b[0;34m=\u001b[0m \u001b[0mlist\u001b[0m\u001b[0;34m(\u001b[0m\u001b[0mfilter\u001b[0m\u001b[0;34m(\u001b[0m\u001b[0mkeep_whistler\u001b[0m\u001b[0;34m,\u001b[0m \u001b[0mlifts\u001b[0m\u001b[0;34m)\u001b[0m\u001b[0;34m)\u001b[0m\u001b[0;34m\u001b[0m\u001b[0;34m\u001b[0m\u001b[0m\n\u001b[0;32m----> 9\u001b[0;31m \u001b[0mwhis_lifts\u001b[0m\u001b[0;34m.\u001b[0m\u001b[0mjson\u001b[0m\u001b[0;34m(\u001b[0m\u001b[0;34m)\u001b[0m\u001b[0;34m\u001b[0m\u001b[0;34m\u001b[0m\u001b[0m\n\u001b[0m",
      "\u001b[0;31mAttributeError\u001b[0m: 'list' object has no attribute 'json'"
     ]
    }
   ],
   "source": [
    "# Filter for specific resort\n",
    "def keep_whistler(data):\n",
    "    whis_data = data[\"resortID\"] == 13\n",
    "    return whis_data\n",
    "\n",
    "# Write filtered data to file.\n",
    "whis_lifts = list(filter(keep_whistler, lifts))\n",
    "whis_lifts\n"
   ]
  },
  {
   "cell_type": "code",
   "execution_count": 35,
   "metadata": {},
   "outputs": [
    {
     "data": {
      "text/plain": [
       "'{\"timestamp\": \"2020-01-01 21:32:12.134877\", \"lifts\": [{\"liftID\": 69, \"resortID\": 13, \"liftName\": \"Blackcomb Gondola Lower\", \"status\": \"X\", \"timeToRide\": \"7\"}, {\"liftID\": 70, \"resortID\": 13, \"liftName\": \"Blackcomb Gondola Upper\", \"status\": \"X\", \"timeToRide\": \"7\"}, {\"liftID\": 5, \"resortID\": 13, \"liftName\": \"Excalibur Gondola Lower\", \"status\": \"X\", \"timeToRide\": \"3\"}, {\"liftID\": 71, \"resortID\": 13, \"liftName\": \"Excalibur Gondola Upper\", \"status\": \"X\", \"timeToRide\": \"5\"}, {\"liftID\": 8, \"resortID\": 13, \"liftName\": \"Excelerator Express\", \"status\": \"X\", \"timeToRide\": \"6\"}, {\"liftID\": 6, \"resortID\": 13, \"liftName\": \"Magic Chair\", \"status\": \"X\", \"timeToRide\": \"6\"}, {\"liftID\": 4, \"resortID\": 13, \"liftName\": \"Jersey Cream Express\", \"status\": \"X\", \"timeToRide\": \"5\"}, {\"liftID\": 9, \"resortID\": 13, \"liftName\": \"Catskinner Express\", \"status\": \"X\", \"timeToRide\": \"4\"}, {\"liftID\": 22, \"resortID\": 13, \"liftName\": \"Peak 2 Peak Gondola\", \"status\": \"X\", \"timeToRide\": \"12\"}, {\"liftID\": 10, \"resortID\": 13, \"liftName\": \"Crystal Ridge Express\", \"status\": \"X\", \"timeToRide\": \"7\"}, {\"liftID\": 7, \"resortID\": 13, \"liftName\": \"Glacier Express\", \"status\": \"X\", \"timeToRide\": \"6\"}, {\"liftID\": 3, \"resortID\": 13, \"liftName\": \"7th Heaven Express\", \"status\": \"X\", \"timeToRide\": \"6\"}, {\"liftID\": 12, \"resortID\": 13, \"liftName\": \"Showcase T-Bar\", \"status\": \"X\", \"timeToRide\": \"3\"}, {\"liftID\": 11, \"resortID\": 13, \"liftName\": \"Horstman T-Bar\", \"status\": \"X\", \"timeToRide\": \"4\"}, {\"liftID\": 14, \"resortID\": 13, \"liftName\": \"Coca-Cola Tube Park\", \"status\": \"X\", \"timeToRide\": \"4\"}, {\"liftID\": 33, \"resortID\": 13, \"liftName\": \"Whistler Village Gondola Lower\", \"status\": \"X\", \"timeToRide\": \"5\"}, {\"liftID\": 72, \"resortID\": 13, \"liftName\": \"Whistler Village Gondola Upper\", \"status\": \"X\", \"timeToRide\": \"11\"}, {\"liftID\": 45, \"resortID\": 13, \"liftName\": \"Fitzsimmons Express\", \"status\": \"X\", \"timeToRide\": \"6\"}, {\"liftID\": 40, \"resortID\": 13, \"liftName\": \"Garbanzo Express\", \"status\": \"X\", \"timeToRide\": \"7\"}, {\"liftID\": 34, \"resortID\": 13, \"liftName\": \"Creekside Gondola\", \"status\": \"X\", \"timeToRide\": \"7\"}, {\"liftID\": 36, \"resortID\": 13, \"liftName\": \"Big Red Express\", \"status\": \"X\", \"timeToRide\": \"8\"}, {\"liftID\": 35, \"resortID\": 13, \"liftName\": \"Emerald 6 Express\", \"status\": \"X\", \"timeToRide\": \"6\"}, {\"liftID\": 22, \"resortID\": 13, \"liftName\": \"Peak 2 Peak Gondola\", \"status\": \"X\", \"timeToRide\": \"12\"}, {\"liftID\": 39, \"resortID\": 13, \"liftName\": \"Olympic Chair\", \"status\": \"X\", \"timeToRide\": \"5\"}, {\"liftID\": 44, \"resortID\": 13, \"liftName\": \"Franz\\'s Chair\", \"status\": \"X\", \"timeToRide\": \"8\"}, {\"liftID\": 43, \"resortID\": 13, \"liftName\": \"Peak Express\", \"status\": \"X\", \"timeToRide\": \"3\"}, {\"liftID\": 37, \"resortID\": 13, \"liftName\": \"Harmony 6 Express\", \"status\": \"X\", \"timeToRide\": \"6\"}, {\"liftID\": 42, \"resortID\": 13, \"liftName\": \"Symphony Express\", \"status\": \"X\", \"timeToRide\": \"7\"}, {\"liftID\": 41, \"resortID\": 13, \"liftName\": \"T-Bars\", \"status\": \"X\", \"timeToRide\": \"5\"}]}'"
      ]
     },
     "execution_count": 35,
     "metadata": {},
     "output_type": "execute_result"
    }
   ],
   "source": [
    "json.dumps({'timestamp': str(datetime.now()), 'lifts': whis_lifts})"
   ]
  },
  {
   "cell_type": "code",
   "execution_count": null,
   "metadata": {},
   "outputs": [],
   "source": []
  }
 ],
 "metadata": {
  "hide_input": false,
  "kernelspec": {
   "display_name": "Python (base)",
   "language": "python",
   "name": "base"
  },
  "language_info": {
   "codemirror_mode": {
    "name": "ipython",
    "version": 3
   },
   "file_extension": ".py",
   "mimetype": "text/x-python",
   "name": "python",
   "nbconvert_exporter": "python",
   "pygments_lexer": "ipython3",
   "version": "3.7.3"
  },
  "varInspector": {
   "cols": {
    "lenName": 16,
    "lenType": 16,
    "lenVar": 40
   },
   "kernels_config": {
    "python": {
     "delete_cmd_postfix": "",
     "delete_cmd_prefix": "del ",
     "library": "var_list.py",
     "varRefreshCmd": "print(var_dic_list())"
    },
    "r": {
     "delete_cmd_postfix": ") ",
     "delete_cmd_prefix": "rm(",
     "library": "var_list.r",
     "varRefreshCmd": "cat(var_dic_list()) "
    }
   },
   "types_to_exclude": [
    "module",
    "function",
    "builtin_function_or_method",
    "instance",
    "_Feature"
   ],
   "window_display": false
  }
 },
 "nbformat": 4,
 "nbformat_minor": 2
}
