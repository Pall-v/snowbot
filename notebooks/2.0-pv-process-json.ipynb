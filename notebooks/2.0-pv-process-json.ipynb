{
 "cells": [
  {
   "cell_type": "code",
   "execution_count": 178,
   "metadata": {},
   "outputs": [],
   "source": [
    "import json, glob, boto3, os\n",
    "import pdb\n",
    "import pandas as pd\n",
    "from pandas import json_normalize"
   ]
  },
  {
   "cell_type": "markdown",
   "metadata": {},
   "source": [
    "# Testing out json processing"
   ]
  },
  {
   "cell_type": "code",
   "execution_count": 20,
   "metadata": {},
   "outputs": [],
   "source": [
    "session = boto3.Session()\n",
    "BUCKET_NAME = 'snowbot-pv'\n",
    "\n",
    "# S3 Connect\n",
    "s3 = session.resource('s3')\n",
    "\n",
    "bucket = s3.Bucket(BUCKET_NAME)"
   ]
  },
  {
   "cell_type": "code",
   "execution_count": 21,
   "metadata": {},
   "outputs": [],
   "source": [
    "DATA_DIR = \"../data/\"\n",
    "MERGED_FILENAME = \"merged_file.json\"\n",
    "merged_file = DATA_DIR + MERGED_FILENAME\n",
    "\n",
    "TEST_FILENAME = \"test_file.json\"\n",
    "merged_test_file = DATA_DIR + TEST_FILENAME\n"
   ]
  },
  {
   "cell_type": "code",
   "execution_count": 137,
   "metadata": {},
   "outputs": [],
   "source": [
    "# from https://alexwlchan.net/2019/07/listing-s3-keys/\n",
    "def get_matching_s3_objects(bucket, prefix=\"\", suffix=\"\"):\n",
    "    \"\"\"\n",
    "    Generate objects in an S3 bucket.\n",
    "\n",
    "    :param bucket: Name of the S3 bucket.\n",
    "    :param prefix: Only fetch objects whose key starts with\n",
    "        this prefix (optional).\n",
    "    :param suffix: Only fetch objects whose keys end with\n",
    "        this suffix (optional).\n",
    "    \"\"\"\n",
    "    s3 = boto3.client(\"s3\")\n",
    "    paginator = s3.get_paginator(\"list_objects_v2\")\n",
    "\n",
    "    kwargs = {'Bucket': bucket}\n",
    "\n",
    "    # We can pass the prefix directly to the S3 API.  If the user has passed\n",
    "    # a tuple or list of prefixes, we go through them one by one.\n",
    "    if isinstance(prefix, str):\n",
    "        prefixes = (prefix, )\n",
    "    else:\n",
    "        prefixes = prefix\n",
    "\n",
    "    for key_prefix in prefixes:\n",
    "        kwargs[\"Prefix\"] = key_prefix\n",
    "\n",
    "        for page in paginator.paginate(**kwargs):\n",
    "            try:\n",
    "                contents = page[\"Contents\"]\n",
    "            except KeyError:\n",
    "                return\n",
    "\n",
    "            for obj in contents:\n",
    "                key = obj[\"Key\"]\n",
    "                if key.endswith(suffix):\n",
    "                    yield obj\n",
    "\n",
    "\n",
    "def get_matching_s3_keys(bucket, prefix=\"\", suffix=\"\"):\n",
    "    \"\"\"\n",
    "    Generate the keys in an S3 bucket.\n",
    "\n",
    "    :param bucket: Name of the S3 bucket.\n",
    "    :param prefix: Only fetch keys that start with this prefix (optional).\n",
    "    :param suffix: Only fetch keys that end with this suffix (optional).\n",
    "    \"\"\"\n",
    "    for obj in get_matching_s3_objects(bucket, prefix, suffix):\n",
    "        yield obj[\"Key\"]\n",
    "\n",
    "\n",
    "def merge_matching_jsons(save_file, suffix=\"\"):\n",
    "\n",
    "    result = []\n",
    "\n",
    "    for f in get_matching_s3_keys(BUCKET_NAME, suffix=suffix):\n",
    "\n",
    "        # Write the file from S3 into a local temp file\n",
    "        with open('temp', 'wb') as tfw:\n",
    "            bucket.download_fileobj(f, tfw)\n",
    "\n",
    "        # Append the local temp file into the result list\n",
    "        with open('temp', 'rb') as tfr:\n",
    "            result.append(json.load(tfr))\n",
    "\n",
    "    os.remove(\"temp\")\n",
    "\n",
    "    # Fill the output file with the merged content\n",
    "    with open(save_file, \"w\") as outfile:\n",
    "        json.dump(result, outfile)\n",
    "\n",
    "# TBD: more efficient to go straight to df w/o saving json to file\n",
    "\n",
    "\n",
    "def set_lifts_df_datatypes(df):\n",
    "\n",
    "    # set datatypes for lift table\n",
    "    df = df.astype({\n",
    "        \"liftID\": 'category',\n",
    "        \"resortID\": 'category',\n",
    "        \"liftName\": 'category',\n",
    "        \"status\": 'category',\n",
    "        \"timeToRide\": \"int\"\n",
    "    })\n",
    "    df[\"timestamp\"] = pd.to_datetime(df[\"timestamp\"])\n",
    "\n",
    "    return df\n",
    "\n",
    "\n",
    "def jsons_to_df(jsons):\n",
    "    df = pd.DataFrame.from_dict(json_normalize(jsons, record_path='lifts', meta='timestamp'))\n",
    "    df = set_lifts_df_datatypes(df)\n",
    "    return df\n",
    "\n",
    "\n",
    "def load_merged_json_as_df(merged_file):\n",
    "    # load the merged json as a dataframe\n",
    "    with open(merged_file, \"r\") as f:\n",
    "        d = json.load(f)\n",
    "        df = jsons_to_df(d)\n",
    "        return df\n",
    "\n",
    "\n",
    "def get_status_changes(df, keep_oldest=False):\n",
    "    \"\"\"\n",
    "    Filter out rows that do not represent a status change.\n",
    "    \n",
    "    Parameters\n",
    "    ----------\n",
    "    df : pandas.DataFrame\n",
    "        Includes 'status' and timestamp columns.  Lists status of every lift for each timestamp.\n",
    "    keep_oldest : boolean\n",
    "        Indicates if the returned DataFrame should keep the oldest status for each lift even if\n",
    "        a lift has no status changes.  This is so that the earliest status for each lift is not\n",
    "        lost, and all lifts are listed the returned DataFrame even if their status has not\n",
    "        changed.  Use `False` when there is just one DataFrame to process.  Use `True` is cases\n",
    "        where the status chages will be appended to an existing dataframe that already has at\n",
    "        least one row for each lift.\n",
    "    \n",
    "    Returns\n",
    "    -------\n",
    "    pandas.DataFrame\n",
    "        Only includes the rows from the original dataframe where there was a change to a new\n",
    "        status.\n",
    "    \"\"\"\n",
    "\n",
    "    def calc_status_change(df, keep_oldest=keep_oldest):\n",
    "        change_rows = df[df.status.ne(df.status.shift())]\n",
    "        \n",
    "        if keep_oldest:\n",
    "            firstrow = df.loc[df['timestamp'].idxmin()]\n",
    "            keep_df = firstrow.to_frame().T.append(change_rows)\n",
    "        else:\n",
    "            keep_df = change_rows\n",
    "            \n",
    "            \n",
    "        # Remove so that we don't need to write another column to S3 as we scrape?\n",
    "        # Just calculate it when plotting and predicting?\n",
    "        # keep_df['time_diff'] = keep_df['timestamp'].diff(1).shift(-1)\n",
    "\n",
    "        return keep_df\n",
    "\n",
    "    df = df.groupby('liftName', group_keys=False)\\\n",
    "           .apply(calc_status_change)\\\n",
    "           .reset_index(drop=True)\n",
    "\n",
    "    df = set_lifts_df_datatypes(df)\n",
    "\n",
    "    return df\n",
    "\n",
    "# TBD: may need to convert timestamp to days (e.g. for Tableau)"
   ]
  },
  {
   "cell_type": "markdown",
   "metadata": {},
   "source": [
    "### Test code"
   ]
  },
  {
   "cell_type": "code",
   "execution_count": null,
   "metadata": {},
   "outputs": [],
   "source": [
    "test_df = load_merged_json_as_df(merged_test_file)\n",
    "test_df.sort_values(by=['liftID', 'timestamp'])"
   ]
  },
  {
   "cell_type": "code",
   "execution_count": 138,
   "metadata": {},
   "outputs": [
    {
     "data": {
      "text/html": [
       "<div>\n",
       "<style scoped>\n",
       "    .dataframe tbody tr th:only-of-type {\n",
       "        vertical-align: middle;\n",
       "    }\n",
       "\n",
       "    .dataframe tbody tr th {\n",
       "        vertical-align: top;\n",
       "    }\n",
       "\n",
       "    .dataframe thead th {\n",
       "        text-align: right;\n",
       "    }\n",
       "</style>\n",
       "<table border=\"1\" class=\"dataframe\">\n",
       "  <thead>\n",
       "    <tr style=\"text-align: right;\">\n",
       "      <th></th>\n",
       "      <th>liftID</th>\n",
       "      <th>resortID</th>\n",
       "      <th>liftName</th>\n",
       "      <th>status</th>\n",
       "      <th>timeToRide</th>\n",
       "      <th>timestamp</th>\n",
       "    </tr>\n",
       "  </thead>\n",
       "  <tbody>\n",
       "    <tr>\n",
       "      <th>0</th>\n",
       "      <td>69</td>\n",
       "      <td>13</td>\n",
       "      <td>Blackcomb Gondola Lower</td>\n",
       "      <td>O</td>\n",
       "      <td>7</td>\n",
       "      <td>2020-01-03 00:19:09.631011-08:00</td>\n",
       "    </tr>\n",
       "  </tbody>\n",
       "</table>\n",
       "</div>"
      ],
      "text/plain": [
       "  liftID resortID                 liftName status  timeToRide  \\\n",
       "0     69       13  Blackcomb Gondola Lower      O           7   \n",
       "\n",
       "                         timestamp  \n",
       "0 2020-01-03 00:19:09.631011-08:00  "
      ]
     },
     "execution_count": 138,
     "metadata": {},
     "output_type": "execute_result"
    }
   ],
   "source": [
    "# TBD: test that len is 1 when keep_oldest=False and larger otherwise\n",
    "get_status_changes(test_df, keep_oldest=False).sort_values(by=['liftID', 'timestamp'])"
   ]
  },
  {
   "cell_type": "markdown",
   "metadata": {},
   "source": [
    "# Process lift json fies"
   ]
  },
  {
   "cell_type": "code",
   "execution_count": 179,
   "metadata": {},
   "outputs": [
    {
     "ename": "KeyboardInterrupt",
     "evalue": "",
     "output_type": "error",
     "traceback": [
      "\u001b[0;31m---------------------------------------------------------------------------\u001b[0m",
      "\u001b[0;31mKeyboardInterrupt\u001b[0m                         Traceback (most recent call last)",
      "\u001b[0;32m<ipython-input-179-39ea973236de>\u001b[0m in \u001b[0;36m<module>\u001b[0;34m\u001b[0m\n\u001b[0;32m----> 1\u001b[0;31m \u001b[0mmerge_matching_jsons\u001b[0m\u001b[0;34m(\u001b[0m\u001b[0msuffix\u001b[0m\u001b[0;34m=\u001b[0m\u001b[0;34m\"lifts.json\"\u001b[0m\u001b[0;34m,\u001b[0m \u001b[0msave_file\u001b[0m\u001b[0;34m=\u001b[0m\u001b[0mmerged_file\u001b[0m\u001b[0;34m)\u001b[0m\u001b[0;34m\u001b[0m\u001b[0;34m\u001b[0m\u001b[0m\n\u001b[0m\u001b[1;32m      2\u001b[0m \u001b[0mlifts_df\u001b[0m \u001b[0;34m=\u001b[0m \u001b[0mload_merged_json_as_df\u001b[0m\u001b[0;34m(\u001b[0m\u001b[0mmerged_file\u001b[0m\u001b[0;34m)\u001b[0m\u001b[0;34m\u001b[0m\u001b[0;34m\u001b[0m\u001b[0m\n\u001b[1;32m      3\u001b[0m \u001b[0;34m\u001b[0m\u001b[0m\n\u001b[1;32m      4\u001b[0m \u001b[0mlifts_status_changes_df\u001b[0m \u001b[0;34m=\u001b[0m \u001b[0mget_status_changes\u001b[0m\u001b[0;34m(\u001b[0m\u001b[0mlifts_df\u001b[0m\u001b[0;34m,\u001b[0m \u001b[0mkeep_oldest\u001b[0m\u001b[0;34m=\u001b[0m\u001b[0;32mTrue\u001b[0m\u001b[0;34m)\u001b[0m\u001b[0;34m\u001b[0m\u001b[0;34m\u001b[0m\u001b[0m\n",
      "\u001b[0;32m<ipython-input-137-7142e233f247>\u001b[0m in \u001b[0;36mmerge_matching_jsons\u001b[0;34m(save_file, suffix)\u001b[0m\n\u001b[1;32m     57\u001b[0m         \u001b[0;31m# Write the file from S3 into a local temp file\u001b[0m\u001b[0;34m\u001b[0m\u001b[0;34m\u001b[0m\u001b[0;34m\u001b[0m\u001b[0m\n\u001b[1;32m     58\u001b[0m         \u001b[0;32mwith\u001b[0m \u001b[0mopen\u001b[0m\u001b[0;34m(\u001b[0m\u001b[0;34m'temp'\u001b[0m\u001b[0;34m,\u001b[0m \u001b[0;34m'wb'\u001b[0m\u001b[0;34m)\u001b[0m \u001b[0;32mas\u001b[0m \u001b[0mtfw\u001b[0m\u001b[0;34m:\u001b[0m\u001b[0;34m\u001b[0m\u001b[0;34m\u001b[0m\u001b[0m\n\u001b[0;32m---> 59\u001b[0;31m             \u001b[0mbucket\u001b[0m\u001b[0;34m.\u001b[0m\u001b[0mdownload_fileobj\u001b[0m\u001b[0;34m(\u001b[0m\u001b[0mf\u001b[0m\u001b[0;34m,\u001b[0m \u001b[0mtfw\u001b[0m\u001b[0;34m)\u001b[0m\u001b[0;34m\u001b[0m\u001b[0;34m\u001b[0m\u001b[0m\n\u001b[0m\u001b[1;32m     60\u001b[0m \u001b[0;34m\u001b[0m\u001b[0m\n\u001b[1;32m     61\u001b[0m         \u001b[0;31m# Append the local temp file into the result list\u001b[0m\u001b[0;34m\u001b[0m\u001b[0;34m\u001b[0m\u001b[0;34m\u001b[0m\u001b[0m\n",
      "\u001b[0;32m~/anaconda3/lib/python3.7/site-packages/boto3/s3/inject.py\u001b[0m in \u001b[0;36mbucket_download_fileobj\u001b[0;34m(self, Key, Fileobj, ExtraArgs, Callback, Config)\u001b[0m\n\u001b[1;32m    718\u001b[0m     return self.meta.client.download_fileobj(\n\u001b[1;32m    719\u001b[0m         \u001b[0mBucket\u001b[0m\u001b[0;34m=\u001b[0m\u001b[0mself\u001b[0m\u001b[0;34m.\u001b[0m\u001b[0mname\u001b[0m\u001b[0;34m,\u001b[0m \u001b[0mKey\u001b[0m\u001b[0;34m=\u001b[0m\u001b[0mKey\u001b[0m\u001b[0;34m,\u001b[0m \u001b[0mFileobj\u001b[0m\u001b[0;34m=\u001b[0m\u001b[0mFileobj\u001b[0m\u001b[0;34m,\u001b[0m \u001b[0mExtraArgs\u001b[0m\u001b[0;34m=\u001b[0m\u001b[0mExtraArgs\u001b[0m\u001b[0;34m,\u001b[0m\u001b[0;34m\u001b[0m\u001b[0;34m\u001b[0m\u001b[0m\n\u001b[0;32m--> 720\u001b[0;31m         Callback=Callback, Config=Config)\n\u001b[0m\u001b[1;32m    721\u001b[0m \u001b[0;34m\u001b[0m\u001b[0m\n\u001b[1;32m    722\u001b[0m \u001b[0;34m\u001b[0m\u001b[0m\n",
      "\u001b[0;32m~/anaconda3/lib/python3.7/site-packages/boto3/s3/inject.py\u001b[0m in \u001b[0;36mdownload_fileobj\u001b[0;34m(self, Bucket, Key, Fileobj, ExtraArgs, Callback, Config)\u001b[0m\n\u001b[1;32m    676\u001b[0m             \u001b[0mbucket\u001b[0m\u001b[0;34m=\u001b[0m\u001b[0mBucket\u001b[0m\u001b[0;34m,\u001b[0m \u001b[0mkey\u001b[0m\u001b[0;34m=\u001b[0m\u001b[0mKey\u001b[0m\u001b[0;34m,\u001b[0m \u001b[0mfileobj\u001b[0m\u001b[0;34m=\u001b[0m\u001b[0mFileobj\u001b[0m\u001b[0;34m,\u001b[0m\u001b[0;34m\u001b[0m\u001b[0;34m\u001b[0m\u001b[0m\n\u001b[1;32m    677\u001b[0m             extra_args=ExtraArgs, subscribers=subscribers)\n\u001b[0;32m--> 678\u001b[0;31m         \u001b[0;32mreturn\u001b[0m \u001b[0mfuture\u001b[0m\u001b[0;34m.\u001b[0m\u001b[0mresult\u001b[0m\u001b[0;34m(\u001b[0m\u001b[0;34m)\u001b[0m\u001b[0;34m\u001b[0m\u001b[0;34m\u001b[0m\u001b[0m\n\u001b[0m\u001b[1;32m    679\u001b[0m \u001b[0;34m\u001b[0m\u001b[0m\n\u001b[1;32m    680\u001b[0m \u001b[0;34m\u001b[0m\u001b[0m\n",
      "\u001b[0;32m~/anaconda3/lib/python3.7/site-packages/s3transfer/futures.py\u001b[0m in \u001b[0;36mresult\u001b[0;34m(self)\u001b[0m\n\u001b[1;32m    107\u001b[0m         \u001b[0;32mexcept\u001b[0m \u001b[0mKeyboardInterrupt\u001b[0m \u001b[0;32mas\u001b[0m \u001b[0me\u001b[0m\u001b[0;34m:\u001b[0m\u001b[0;34m\u001b[0m\u001b[0;34m\u001b[0m\u001b[0m\n\u001b[1;32m    108\u001b[0m             \u001b[0mself\u001b[0m\u001b[0;34m.\u001b[0m\u001b[0mcancel\u001b[0m\u001b[0;34m(\u001b[0m\u001b[0;34m)\u001b[0m\u001b[0;34m\u001b[0m\u001b[0;34m\u001b[0m\u001b[0m\n\u001b[0;32m--> 109\u001b[0;31m             \u001b[0;32mraise\u001b[0m \u001b[0me\u001b[0m\u001b[0;34m\u001b[0m\u001b[0;34m\u001b[0m\u001b[0m\n\u001b[0m\u001b[1;32m    110\u001b[0m \u001b[0;34m\u001b[0m\u001b[0m\n\u001b[1;32m    111\u001b[0m     \u001b[0;32mdef\u001b[0m \u001b[0mcancel\u001b[0m\u001b[0;34m(\u001b[0m\u001b[0mself\u001b[0m\u001b[0;34m)\u001b[0m\u001b[0;34m:\u001b[0m\u001b[0;34m\u001b[0m\u001b[0;34m\u001b[0m\u001b[0m\n",
      "\u001b[0;32m~/anaconda3/lib/python3.7/site-packages/s3transfer/futures.py\u001b[0m in \u001b[0;36mresult\u001b[0;34m(self)\u001b[0m\n\u001b[1;32m    104\u001b[0m             \u001b[0;31m# however if a KeyboardInterrupt is raised we want want to exit\u001b[0m\u001b[0;34m\u001b[0m\u001b[0;34m\u001b[0m\u001b[0;34m\u001b[0m\u001b[0m\n\u001b[1;32m    105\u001b[0m             \u001b[0;31m# out of this and propogate the exception.\u001b[0m\u001b[0;34m\u001b[0m\u001b[0;34m\u001b[0m\u001b[0;34m\u001b[0m\u001b[0m\n\u001b[0;32m--> 106\u001b[0;31m             \u001b[0;32mreturn\u001b[0m \u001b[0mself\u001b[0m\u001b[0;34m.\u001b[0m\u001b[0m_coordinator\u001b[0m\u001b[0;34m.\u001b[0m\u001b[0mresult\u001b[0m\u001b[0;34m(\u001b[0m\u001b[0;34m)\u001b[0m\u001b[0;34m\u001b[0m\u001b[0;34m\u001b[0m\u001b[0m\n\u001b[0m\u001b[1;32m    107\u001b[0m         \u001b[0;32mexcept\u001b[0m \u001b[0mKeyboardInterrupt\u001b[0m \u001b[0;32mas\u001b[0m \u001b[0me\u001b[0m\u001b[0;34m:\u001b[0m\u001b[0;34m\u001b[0m\u001b[0;34m\u001b[0m\u001b[0m\n\u001b[1;32m    108\u001b[0m             \u001b[0mself\u001b[0m\u001b[0;34m.\u001b[0m\u001b[0mcancel\u001b[0m\u001b[0;34m(\u001b[0m\u001b[0;34m)\u001b[0m\u001b[0;34m\u001b[0m\u001b[0;34m\u001b[0m\u001b[0m\n",
      "\u001b[0;32m~/anaconda3/lib/python3.7/site-packages/s3transfer/futures.py\u001b[0m in \u001b[0;36mresult\u001b[0;34m(self)\u001b[0m\n\u001b[1;32m    258\u001b[0m         \u001b[0;31m# possible value integer value, which is on the scale of billions of\u001b[0m\u001b[0;34m\u001b[0m\u001b[0;34m\u001b[0m\u001b[0;34m\u001b[0m\u001b[0m\n\u001b[1;32m    259\u001b[0m         \u001b[0;31m# years...\u001b[0m\u001b[0;34m\u001b[0m\u001b[0;34m\u001b[0m\u001b[0;34m\u001b[0m\u001b[0m\n\u001b[0;32m--> 260\u001b[0;31m         \u001b[0mself\u001b[0m\u001b[0;34m.\u001b[0m\u001b[0m_done_event\u001b[0m\u001b[0;34m.\u001b[0m\u001b[0mwait\u001b[0m\u001b[0;34m(\u001b[0m\u001b[0mMAXINT\u001b[0m\u001b[0;34m)\u001b[0m\u001b[0;34m\u001b[0m\u001b[0;34m\u001b[0m\u001b[0m\n\u001b[0m\u001b[1;32m    261\u001b[0m \u001b[0;34m\u001b[0m\u001b[0m\n\u001b[1;32m    262\u001b[0m         \u001b[0;31m# Once done waiting, raise an exception if present or return the\u001b[0m\u001b[0;34m\u001b[0m\u001b[0;34m\u001b[0m\u001b[0;34m\u001b[0m\u001b[0m\n",
      "\u001b[0;32m~/anaconda3/lib/python3.7/threading.py\u001b[0m in \u001b[0;36mwait\u001b[0;34m(self, timeout)\u001b[0m\n\u001b[1;32m    550\u001b[0m             \u001b[0msignaled\u001b[0m \u001b[0;34m=\u001b[0m \u001b[0mself\u001b[0m\u001b[0;34m.\u001b[0m\u001b[0m_flag\u001b[0m\u001b[0;34m\u001b[0m\u001b[0;34m\u001b[0m\u001b[0m\n\u001b[1;32m    551\u001b[0m             \u001b[0;32mif\u001b[0m \u001b[0;32mnot\u001b[0m \u001b[0msignaled\u001b[0m\u001b[0;34m:\u001b[0m\u001b[0;34m\u001b[0m\u001b[0;34m\u001b[0m\u001b[0m\n\u001b[0;32m--> 552\u001b[0;31m                 \u001b[0msignaled\u001b[0m \u001b[0;34m=\u001b[0m \u001b[0mself\u001b[0m\u001b[0;34m.\u001b[0m\u001b[0m_cond\u001b[0m\u001b[0;34m.\u001b[0m\u001b[0mwait\u001b[0m\u001b[0;34m(\u001b[0m\u001b[0mtimeout\u001b[0m\u001b[0;34m)\u001b[0m\u001b[0;34m\u001b[0m\u001b[0;34m\u001b[0m\u001b[0m\n\u001b[0m\u001b[1;32m    553\u001b[0m             \u001b[0;32mreturn\u001b[0m \u001b[0msignaled\u001b[0m\u001b[0;34m\u001b[0m\u001b[0;34m\u001b[0m\u001b[0m\n\u001b[1;32m    554\u001b[0m \u001b[0;34m\u001b[0m\u001b[0m\n",
      "\u001b[0;32m~/anaconda3/lib/python3.7/threading.py\u001b[0m in \u001b[0;36mwait\u001b[0;34m(self, timeout)\u001b[0m\n\u001b[1;32m    294\u001b[0m         \u001b[0;32mtry\u001b[0m\u001b[0;34m:\u001b[0m    \u001b[0;31m# restore state no matter what (e.g., KeyboardInterrupt)\u001b[0m\u001b[0;34m\u001b[0m\u001b[0;34m\u001b[0m\u001b[0m\n\u001b[1;32m    295\u001b[0m             \u001b[0;32mif\u001b[0m \u001b[0mtimeout\u001b[0m \u001b[0;32mis\u001b[0m \u001b[0;32mNone\u001b[0m\u001b[0;34m:\u001b[0m\u001b[0;34m\u001b[0m\u001b[0;34m\u001b[0m\u001b[0m\n\u001b[0;32m--> 296\u001b[0;31m                 \u001b[0mwaiter\u001b[0m\u001b[0;34m.\u001b[0m\u001b[0macquire\u001b[0m\u001b[0;34m(\u001b[0m\u001b[0;34m)\u001b[0m\u001b[0;34m\u001b[0m\u001b[0;34m\u001b[0m\u001b[0m\n\u001b[0m\u001b[1;32m    297\u001b[0m                 \u001b[0mgotit\u001b[0m \u001b[0;34m=\u001b[0m \u001b[0;32mTrue\u001b[0m\u001b[0;34m\u001b[0m\u001b[0;34m\u001b[0m\u001b[0m\n\u001b[1;32m    298\u001b[0m             \u001b[0;32melse\u001b[0m\u001b[0;34m:\u001b[0m\u001b[0;34m\u001b[0m\u001b[0;34m\u001b[0m\u001b[0m\n",
      "\u001b[0;31mKeyboardInterrupt\u001b[0m: "
     ]
    }
   ],
   "source": [
    "merge_matching_jsons(suffix=\"lifts.json\", save_file=merged_file)\n",
    "lifts_df = load_merged_json_as_df(merged_file)\n",
    "\n",
    "lifts_status_changes_df = get_status_changes(lifts_df, keep_oldest=True)"
   ]
  },
  {
   "cell_type": "markdown",
   "metadata": {},
   "source": [
    "**NOTE:** `timeToRide` is just the time is takes to ride the lift, not the current wait time:"
   ]
  },
  {
   "cell_type": "code",
   "execution_count": 140,
   "metadata": {},
   "outputs": [
    {
     "data": {
      "text/plain": [
       "liftName\n",
       "7th Heaven Express                 [6]\n",
       "Big Red Express                    [8]\n",
       "Blackcomb Gondola Lower            [7]\n",
       "Blackcomb Gondola Upper            [7]\n",
       "Catskinner Express                 [4]\n",
       "Coca-Cola Tube Park                [4]\n",
       "Creekside Gondola                  [7]\n",
       "Crystal Ridge Express              [7]\n",
       "Emerald 6 Express                  [6]\n",
       "Excalibur Gondola Lower            [3]\n",
       "Excalibur Gondola Upper            [5]\n",
       "Excelerator Express                [6]\n",
       "Fitzsimmons Express                [6]\n",
       "Franz's Chair                      [8]\n",
       "Garbanzo Express                   [7]\n",
       "Glacier Express                    [6]\n",
       "Harmony 6 Express                  [6]\n",
       "Horstman T-Bar                     [4]\n",
       "Jersey Cream Express               [5]\n",
       "Magic Chair                        [6]\n",
       "Olympic Chair                      [5]\n",
       "Peak 2 Peak Gondola               [12]\n",
       "Peak Express                       [3]\n",
       "Showcase T-Bar                     [3]\n",
       "Symphony Express                   [7]\n",
       "T-Bars                             [5]\n",
       "Whistler Village Gondola Lower     [5]\n",
       "Whistler Village Gondola Upper    [11]\n",
       "Name: timeToRide, dtype: object"
      ]
     },
     "execution_count": 140,
     "metadata": {},
     "output_type": "execute_result"
    }
   ],
   "source": [
    "lifts_df.groupby(\"liftName\")['timeToRide'].unique()"
   ]
  },
  {
   "cell_type": "code",
   "execution_count": 141,
   "metadata": {},
   "outputs": [
    {
     "data": {
      "text/html": [
       "<div>\n",
       "<style scoped>\n",
       "    .dataframe tbody tr th:only-of-type {\n",
       "        vertical-align: middle;\n",
       "    }\n",
       "\n",
       "    .dataframe tbody tr th {\n",
       "        vertical-align: top;\n",
       "    }\n",
       "\n",
       "    .dataframe thead th {\n",
       "        text-align: right;\n",
       "    }\n",
       "</style>\n",
       "<table border=\"1\" class=\"dataframe\">\n",
       "  <thead>\n",
       "    <tr style=\"text-align: right;\">\n",
       "      <th></th>\n",
       "      <th>liftID</th>\n",
       "      <th>resortID</th>\n",
       "      <th>liftName</th>\n",
       "      <th>status</th>\n",
       "      <th>timeToRide</th>\n",
       "      <th>timestamp</th>\n",
       "    </tr>\n",
       "  </thead>\n",
       "  <tbody>\n",
       "    <tr>\n",
       "      <th>0</th>\n",
       "      <td>69</td>\n",
       "      <td>13</td>\n",
       "      <td>Blackcomb Gondola Lower</td>\n",
       "      <td>X</td>\n",
       "      <td>7</td>\n",
       "      <td>2020-01-03 00:19:09.631011-08:00</td>\n",
       "    </tr>\n",
       "    <tr>\n",
       "      <th>1</th>\n",
       "      <td>70</td>\n",
       "      <td>13</td>\n",
       "      <td>Blackcomb Gondola Upper</td>\n",
       "      <td>X</td>\n",
       "      <td>7</td>\n",
       "      <td>2020-01-03 00:19:09.631011-08:00</td>\n",
       "    </tr>\n",
       "    <tr>\n",
       "      <th>2</th>\n",
       "      <td>5</td>\n",
       "      <td>13</td>\n",
       "      <td>Excalibur Gondola Lower</td>\n",
       "      <td>X</td>\n",
       "      <td>3</td>\n",
       "      <td>2020-01-03 00:19:09.631011-08:00</td>\n",
       "    </tr>\n",
       "    <tr>\n",
       "      <th>3</th>\n",
       "      <td>71</td>\n",
       "      <td>13</td>\n",
       "      <td>Excalibur Gondola Upper</td>\n",
       "      <td>X</td>\n",
       "      <td>5</td>\n",
       "      <td>2020-01-03 00:19:09.631011-08:00</td>\n",
       "    </tr>\n",
       "    <tr>\n",
       "      <th>4</th>\n",
       "      <td>8</td>\n",
       "      <td>13</td>\n",
       "      <td>Excelerator Express</td>\n",
       "      <td>X</td>\n",
       "      <td>6</td>\n",
       "      <td>2020-01-03 00:19:09.631011-08:00</td>\n",
       "    </tr>\n",
       "    <tr>\n",
       "      <th>...</th>\n",
       "      <td>...</td>\n",
       "      <td>...</td>\n",
       "      <td>...</td>\n",
       "      <td>...</td>\n",
       "      <td>...</td>\n",
       "      <td>...</td>\n",
       "    </tr>\n",
       "    <tr>\n",
       "      <th>82036</th>\n",
       "      <td>11</td>\n",
       "      <td>13</td>\n",
       "      <td>Horstman T-Bar</td>\n",
       "      <td>X</td>\n",
       "      <td>4</td>\n",
       "      <td>2020-02-02 13:15:26.456377-08:00</td>\n",
       "    </tr>\n",
       "    <tr>\n",
       "      <th>82037</th>\n",
       "      <td>22</td>\n",
       "      <td>13</td>\n",
       "      <td>Peak 2 Peak Gondola</td>\n",
       "      <td>X</td>\n",
       "      <td>12</td>\n",
       "      <td>2020-02-02 13:15:26.456377-08:00</td>\n",
       "    </tr>\n",
       "    <tr>\n",
       "      <th>82038</th>\n",
       "      <td>44</td>\n",
       "      <td>13</td>\n",
       "      <td>Franz's Chair</td>\n",
       "      <td>X</td>\n",
       "      <td>8</td>\n",
       "      <td>2020-02-02 13:15:26.456377-08:00</td>\n",
       "    </tr>\n",
       "    <tr>\n",
       "      <th>82039</th>\n",
       "      <td>43</td>\n",
       "      <td>13</td>\n",
       "      <td>Peak Express</td>\n",
       "      <td>X</td>\n",
       "      <td>3</td>\n",
       "      <td>2020-02-02 13:15:26.456377-08:00</td>\n",
       "    </tr>\n",
       "    <tr>\n",
       "      <th>82040</th>\n",
       "      <td>42</td>\n",
       "      <td>13</td>\n",
       "      <td>Symphony Express</td>\n",
       "      <td>X</td>\n",
       "      <td>7</td>\n",
       "      <td>2020-02-02 13:15:26.456377-08:00</td>\n",
       "    </tr>\n",
       "  </tbody>\n",
       "</table>\n",
       "<p>82041 rows × 6 columns</p>\n",
       "</div>"
      ],
      "text/plain": [
       "      liftID resortID                 liftName status  timeToRide  \\\n",
       "0         69       13  Blackcomb Gondola Lower      X           7   \n",
       "1         70       13  Blackcomb Gondola Upper      X           7   \n",
       "2          5       13  Excalibur Gondola Lower      X           3   \n",
       "3         71       13  Excalibur Gondola Upper      X           5   \n",
       "4          8       13      Excelerator Express      X           6   \n",
       "...      ...      ...                      ...    ...         ...   \n",
       "82036     11       13           Horstman T-Bar      X           4   \n",
       "82037     22       13      Peak 2 Peak Gondola      X          12   \n",
       "82038     44       13            Franz's Chair      X           8   \n",
       "82039     43       13             Peak Express      X           3   \n",
       "82040     42       13         Symphony Express      X           7   \n",
       "\n",
       "                             timestamp  \n",
       "0     2020-01-03 00:19:09.631011-08:00  \n",
       "1     2020-01-03 00:19:09.631011-08:00  \n",
       "2     2020-01-03 00:19:09.631011-08:00  \n",
       "3     2020-01-03 00:19:09.631011-08:00  \n",
       "4     2020-01-03 00:19:09.631011-08:00  \n",
       "...                                ...  \n",
       "82036 2020-02-02 13:15:26.456377-08:00  \n",
       "82037 2020-02-02 13:15:26.456377-08:00  \n",
       "82038 2020-02-02 13:15:26.456377-08:00  \n",
       "82039 2020-02-02 13:15:26.456377-08:00  \n",
       "82040 2020-02-02 13:15:26.456377-08:00  \n",
       "\n",
       "[82041 rows x 6 columns]"
      ]
     },
     "execution_count": 141,
     "metadata": {},
     "output_type": "execute_result"
    }
   ],
   "source": [
    "lifts_df"
   ]
  },
  {
   "cell_type": "code",
   "execution_count": 142,
   "metadata": {},
   "outputs": [],
   "source": [
    "def get_status_durations(lifts_df):\n",
    "    '''Calculate values and add columns for the time difference between the\n",
    "    timestamp for the current status and the timestamp for the next status\n",
    "    for each lift:\n",
    "    `time_diff` column: Gives the duration that the lift was in the status indicated in the `status` column.\n",
    "    `time_diff_seconds` column: `time_diff` converted to seconds.\n",
    "    \n",
    "    lifts_status_changes_df should be TBD\n",
    "    '''\n",
    "    # TBD: optimize if needed via # 3 under:\n",
    "    # https://towardsdatascience.com/pandas-tips-and-tricks-33bcc8a40bb9\n",
    "    df = lifts_df.sort_values(by=['liftID', 'timestamp'])\n",
    "    df['time_diff'] = df.groupby('liftID')['timestamp'].diff(1).shift(-1)\n",
    "\n",
    "    # Fill in the durations which will be missing for the most recent status changes\n",
    "    missing_time_diffs_idx = df.loc[(df['time_diff'].isnull()) & (\n",
    "        df['timestamp'] >= df['timestamp'].min()), 'timestamp'].index.values\n",
    "\n",
    "    df.loc[missing_time_diffs_idx, 'time_diff'] = df['timestamp'].max(\n",
    "    ) - df.loc[missing_time_diffs_idx, 'timestamp']\n",
    "\n",
    "    # Convert to seconds\n",
    "    df['time_diff_seconds'] = df['time_diff'].dt.total_seconds()\n",
    "\n",
    "    return df\n",
    "\n",
    "\n",
    "df = get_status_durations(lifts_status_changes_df)"
   ]
  },
  {
   "cell_type": "code",
   "execution_count": 143,
   "metadata": {},
   "outputs": [],
   "source": [
    "# Uses local date formatting, otherwise Tableau will mix up month and day\n",
    "# alternatively, can export to json:\n",
    "# lifts_status_changes_df.to_json(DATA_DIR + \"lifts_status_changes.json\", orient='table')\n",
    "df.to_csv(DATA_DIR + \"lifts_status_changes.csv\", date_format='%c')\n"
   ]
  },
  {
   "cell_type": "code",
   "execution_count": 17,
   "metadata": {},
   "outputs": [],
   "source": [
    "# add:\n",
    "# \n",
    "# daily: for each chair calculate most open status of the day: O > H > X\n",
    "# Days since each chair was last seen open with timestamp of most recent open time.\n",
    "# snowfall since last open\n",
    "# save data for other mountains"
   ]
  },
  {
   "cell_type": "markdown",
   "metadata": {},
   "source": [
    "# Storage options testing"
   ]
  },
  {
   "cell_type": "code",
   "execution_count": null,
   "metadata": {},
   "outputs": [],
   "source": [
    "df.to_pickle(DATA_DIR + \"df_test.pkl\")"
   ]
  },
  {
   "cell_type": "code",
   "execution_count": null,
   "metadata": {},
   "outputs": [],
   "source": [
    "from fastparquet import write\n",
    "\n",
    "# parquet engines don't handle shifted timezones\n",
    "import pytz\n",
    "TZ = pytz.timezone('America/Vancouver')\n",
    "df['timestamp'] = df.timestamp.dt.tz_convert(pytz.utc)"
   ]
  },
  {
   "cell_type": "code",
   "execution_count": null,
   "metadata": {},
   "outputs": [],
   "source": [
    "# Note: May need snappy-python as a req to run on AWS Lambda\n",
    "df.to_parquet(DATA_DIR + \"df_test.parquet\", engine='fastparquet')"
   ]
  },
  {
   "cell_type": "code",
   "execution_count": null,
   "metadata": {},
   "outputs": [],
   "source": [
    "load_df = pd.read_parquet(DATA_DIR + \"df_test.parquet\")\n",
    "load_df['timestamp'] = load_df.timestamp.dt.tz_convert(TZ) # convert back to correct timezone\n"
   ]
  },
  {
   "cell_type": "code",
   "execution_count": null,
   "metadata": {},
   "outputs": [],
   "source": [
    "#TBD convert back to correct datatypes\n",
    "load_df.dtypes"
   ]
  },
  {
   "cell_type": "code",
   "execution_count": null,
   "metadata": {},
   "outputs": [],
   "source": [
    "df.to_csv(DATA_DIR + \"df_test.csv\")"
   ]
  },
  {
   "cell_type": "markdown",
   "metadata": {},
   "source": [
    "Test file size results:\n",
    "- json: 800 Kb?\n",
    "- csv: 474 Kb\n",
    "- pickle: 145 Kb\n",
    "- parquet: 15 Kb"
   ]
  },
  {
   "cell_type": "markdown",
   "metadata": {},
   "source": [
    "## Delta Lake Testing\n",
    "\n",
    "Requires apache spark instance.  For future use, could set one up to work with lambda using https://aws.amazon.com/emr/features/spark/?\n",
    "\n",
    "Otherwise databricks (similar to QxMD project)"
   ]
  },
  {
   "cell_type": "markdown",
   "metadata": {},
   "source": [
    "# json comparison and parquet to S3"
   ]
  },
  {
   "cell_type": "code",
   "execution_count": 23,
   "metadata": {},
   "outputs": [],
   "source": [
    "from fastparquet import write, ParquetFile\n",
    "import os\n",
    "import pytz\n",
    "import s3fs\n",
    "import botocore\n",
    "\n",
    "os.chdir(\"../src/data/snowbot_AWS_lambda/\")\n",
    "from scrape import get_data\n",
    "os.chdir(\"../../../notebooks\")"
   ]
  },
  {
   "cell_type": "code",
   "execution_count": 157,
   "metadata": {},
   "outputs": [],
   "source": [
    "# parquet engines don't handle shifted timezones\n",
    "TZ = pytz.timezone('America/Vancouver')\n",
    "\n",
    "# new version\n",
    "\n",
    "fs = s3fs.S3FileSystem()\n",
    "myopen = fs.open\n",
    "nop = lambda *args, **kwargs: None\n",
    "\n",
    "\n",
    "HISTORY_FNAME = 'wb_lifts_history.parquet'\n",
    "PRIOR_STATUS_FNAME = 'lifts_prior.json'"
   ]
  },
  {
   "cell_type": "code",
   "execution_count": 162,
   "metadata": {},
   "outputs": [],
   "source": [
    "def write_dataframe_to_parquet_on_s3(df, fname):\n",
    "    \"\"\" Write a dataframe to a Parquet file on S3.  Creates a new parquet file if one doesn't already exist.\"\"\"\n",
    "\n",
    "    def write_parquet(df, fname, app=True):\n",
    "\n",
    "        output_file = f\"s3://{BUCKET_NAME}/{fname}\"\n",
    "        write(output_file,\n",
    "              df,\n",
    "              # partition_on=['timestamp'],\n",
    "              file_scheme='hive',\n",
    "              append=app,  # need to remove or catch exception to work when file doesn't exist\n",
    "              open_with=myopen,\n",
    "              mkdirs=nop)\n",
    "        print(\"Writing {} records to {}.\".format(len(df), fname))\n",
    "\n",
    "    # Unshift the timezone because parquet engines don't handle shifted timezones\n",
    "    df.loc[:, 'timestamp'] = df.loc[:, 'timestamp'].dt.tz_convert(pytz.utc)\n",
    "\n",
    "    s3_object = s3.Object(BUCKET_NAME, fname)\n",
    "\n",
    "    if not list(bucket.objects.filter(Prefix=fname)):\n",
    "        print(\"File {} not found.  Creating new file.\".format(fname))\n",
    "        # Keep oldest status for each lift because creating new file\n",
    "        df = get_status_changes(df, keep_oldest=True)\n",
    "        write_parquet(df, fname, app=False)\n",
    "\n",
    "    else:\n",
    "        print(f\"File {fname} found.\")\n",
    "        df = get_status_changes(df, keep_oldest=False)\n",
    "        write_parquet(df, fname, app=True)\n",
    "\n",
    "\n",
    "def save_prior(json_data):\n",
    "    bucket.put_object(Key=\"lifts_prior.json\",\n",
    "                      Body=bytes(json.dumps(json_data).encode('UTF-8')))"
   ]
  },
  {
   "cell_type": "code",
   "execution_count": 180,
   "metadata": {},
   "outputs": [
    {
     "name": "stdout",
     "output_type": "stream",
     "text": [
      "Loaded prior json data from S3\n",
      "No differences between current and prior data were found.\n"
     ]
    }
   ],
   "source": [
    "# Get current lift status info json\n",
    "lifts_current = get_data()['lifts']  # String.\n",
    "lifts_current_json = json.loads(lifts_current)\n",
    "\n",
    "# Get prior lift status info json\n",
    "lifts_prior_object = s3.Object(BUCKET_NAME, PRIOR_STATUS_FNAME)\n",
    "try:\n",
    "    lifts_prior_object.load()\n",
    "except botocore.exceptions.ClientError as e:\n",
    "    if e.response['Error']['Code'] == \"404\":\n",
    "        print(\"Prior doesn't exist\")\n",
    "        save_prior(lifts_current_json)  # Create the prior file\n",
    "        print(f\"Created {PRIOR_STATUS_FNAME}\")\n",
    "    else:\n",
    "        # Something else has gone wrong.\n",
    "        raise\n",
    "else:\n",
    "    # The prior exists\n",
    "    file_content = lifts_prior_object.get()['Body'].read().decode('utf-8')\n",
    "    json_content = json.loads(file_content)\n",
    "    print(\"Loaded prior json data from S3\")\n",
    "\n",
    "    # Compare jsons without their timestamps.  The timestamps on the current json will\n",
    "    # always be more recent even when none of the lift statuses have changed.\n",
    "    if json_content['lifts'] == lifts_current_json['lifts']:\n",
    "        print(\"No differences between current and prior data were found.\")\n",
    "    else:\n",
    "        # Get a df with the status chages between the prior and current json data\n",
    "        df = jsons_to_df([json_content, lifts_current_json])\n",
    "        print(\"Found differences between current and prior data.\")\n",
    "        write_dataframe_to_parquet_on_s3(df, HISTORY_FNAME)\n",
    "\n",
    "        # save current lift status info json as prior\n",
    "        save_prior(lifts_current_json)\n",
    "        print(\"Updated {} with current data.\".format(lifts_prior_object.key))"
   ]
  },
  {
   "cell_type": "markdown",
   "metadata": {},
   "source": [
    "**Warnings**\n",
    "\n",
    "See https://github.com/dask/fastparquet/issues/477 for fastparquet warnings about `RangeIndex._start, RangeIndex._stop, RangeIndex._step`\n",
    "\n",
    "\n",
    "    /Users/paul/anaconda3/lib/python3.7/site-packages/ipykernel_launcher.py:90: FutureWarning: pandas.io.json.json_normalize is deprecated, use pandas.json_normalize instead\n",
    "    /Users/paul/anaconda3/lib/python3.7/site-packages/fastparquet/writer.py:655: FutureWarning: RangeIndex._start is deprecated and will be removed in a future version. Use RangeIndex.start instead\n",
    "      index_cols = [{'name': index_cols.name, 'start': index_cols._start,\n",
    "    /Users/paul/anaconda3/lib/python3.7/site-packages/fastparquet/writer.py:656: FutureWarning: RangeIndex._stop is deprecated and will be removed in a future version. Use RangeIndex.stop instead\n",
    "      'stop': index_cols._stop, 'step': index_cols._step,\n",
    "    /Users/paul/anaconda3/lib/python3.7/site-packages/fastparquet/writer.py:656: FutureWarning: RangeIndex._step is deprecated and will be removed in a future version. Use RangeIndex.step instead\n",
    "      'stop': index_cols._stop, 'step': index_cols._step,"
   ]
  },
  {
   "cell_type": "code",
   "execution_count": 173,
   "metadata": {},
   "outputs": [],
   "source": [
    "# load the parquet file\n",
    "\n",
    "\n",
    "def load_dataframe_from_parquet_on_s3(fname):\n",
    "    \"\"\" Load a dataframe from a Parquet on S3. \"\"\"\n",
    "    read_file = f\"s3://{BUCKET_NAME}/{fname}\"\n",
    "    pf = ParquetFile(read_file, open_with=myopen)\n",
    "    df = pf.to_pandas()\n",
    "\n",
    "    # Reshift the timezone because parquet engines don't handle shifted timezones\n",
    "    # df['timestamp'].cat.set_categories(df['timestamp'].cat.categories.tz_convert(TZ), inplace=True)\n",
    "    \n",
    "    return df"
   ]
  },
  {
   "cell_type": "code",
   "execution_count": 174,
   "metadata": {},
   "outputs": [],
   "source": [
    "parq_df = load_dataframe_from_parquet_on_s3(HISTORY_FNAME)"
   ]
  },
  {
   "cell_type": "code",
   "execution_count": null,
   "metadata": {},
   "outputs": [],
   "source": [
    "lifts_status_changes_parq_df = get_status_durations(parq_df)\n",
    "lifts_status_changes_parq_df.to_csv(DATA_DIR + \"lifts_status_changes_parq.csv\", date_format='%c')\n",
    "lifts_status_changes_parq_df"
   ]
  },
  {
   "cell_type": "code",
   "execution_count": null,
   "metadata": {},
   "outputs": [],
   "source": [
    "parq_df.sort_values([\"liftName\", \"timestamp\"])"
   ]
  },
  {
   "cell_type": "markdown",
   "metadata": {},
   "source": [
    "### Issue when running get_status_durations(parq_df)\n",
    "Resulting in error:\n",
    "\n",
    "    ~/anaconda3/lib/python3.7/site-packages/pandas/core/arrays/categorical.py in from_codes(cls, codes, categories, ordered, dtype)\n",
    "        705 \n",
    "        706         if len(codes) and (codes.max() >= len(dtype.categories) or codes.min() < -1):\n",
    "    --> 707             raise ValueError(\"codes need to be between -1 and \" \"len(categories)-1\")\n",
    "        708 \n",
    "        709         return cls(codes, dtype=dtype, fastpath=True)\n",
    "\n",
    "    ValueError: codes need to be between -1 and len(categories)-1\n",
    "\n",
    "\n",
    "Same error seen when running `parq_df[['status']].sort_values(by=['status'])`\n",
    "\n",
    "This was caused by missing categories (`H`) in the `status` column (and maybe others)\n",
    "\n",
    "#### Code to inspect issue:"
   ]
  },
  {
   "cell_type": "code",
   "execution_count": null,
   "metadata": {},
   "outputs": [],
   "source": [
    "# Test for issue\n",
    "parq_df[['status']].sort_values(by=['status'])"
   ]
  },
  {
   "cell_type": "code",
   "execution_count": 35,
   "metadata": {},
   "outputs": [
    {
     "data": {
      "text/plain": [
       "Index(['H', 'O', 'X'], dtype='object')"
      ]
     },
     "execution_count": 35,
     "metadata": {},
     "output_type": "execute_result"
    }
   ],
   "source": [
    "parq_df.status.cat.categories"
   ]
  },
  {
   "cell_type": "code",
   "execution_count": 14,
   "metadata": {},
   "outputs": [
    {
     "data": {
      "text/plain": [
       "371"
      ]
     },
     "execution_count": 14,
     "metadata": {},
     "output_type": "execute_result"
    }
   ],
   "source": [
    "len(parq_df.status.cat.codes)"
   ]
  },
  {
   "cell_type": "code",
   "execution_count": 57,
   "metadata": {},
   "outputs": [
    {
     "data": {
      "text/plain": [
       "False"
      ]
     },
     "execution_count": 57,
     "metadata": {},
     "output_type": "execute_result"
    }
   ],
   "source": [
    "# Should be false\n",
    "parq_df.status.cat.codes.max() >= len(parq_df.status.dtype.categories)"
   ]
  },
  {
   "cell_type": "code",
   "execution_count": 58,
   "metadata": {},
   "outputs": [
    {
     "data": {
      "text/plain": [
       "False"
      ]
     },
     "execution_count": 58,
     "metadata": {},
     "output_type": "execute_result"
    }
   ],
   "source": [
    "# Should be false\n",
    "parq_df.liftName.cat.codes.min() < -1"
   ]
  },
  {
   "cell_type": "code",
   "execution_count": null,
   "metadata": {},
   "outputs": [],
   "source": [
    "for c in parq_df.columns:\n",
    "    print(parq_df[c].cat.categories)"
   ]
  },
  {
   "cell_type": "code",
   "execution_count": 36,
   "metadata": {},
   "outputs": [
    {
     "data": {
      "text/plain": [
       "liftID                   category\n",
       "resortID                 category\n",
       "liftName                 category\n",
       "status                   category\n",
       "timeToRide                  int64\n",
       "timestamp     datetime64[ns, UTC]\n",
       "dtype: object"
      ]
     },
     "execution_count": 36,
     "metadata": {},
     "output_type": "execute_result"
    }
   ],
   "source": [
    "parq_df.dtypes"
   ]
  },
  {
   "cell_type": "code",
   "execution_count": 113,
   "metadata": {},
   "outputs": [
    {
     "data": {
      "text/plain": [
       "liftID                                      category\n",
       "resortID                                    category\n",
       "liftName                                    category\n",
       "status                                      category\n",
       "timeToRide                                     int64\n",
       "timestamp     datetime64[ns, pytz.FixedOffset(-480)]\n",
       "dtype: object"
      ]
     },
     "execution_count": 113,
     "metadata": {},
     "output_type": "execute_result"
    }
   ],
   "source": [
    "lifts_status_changes_df.dtypes"
   ]
  },
  {
   "cell_type": "code",
   "execution_count": 106,
   "metadata": {},
   "outputs": [],
   "source": [
    "parq_df[\"timestamp\"] = pd.to_datetime(pd.Series(np.asarray(parq_df[\"timestamp\"])))"
   ]
  },
  {
   "cell_type": "code",
   "execution_count": 73,
   "metadata": {},
   "outputs": [
    {
     "data": {
      "text/plain": [
       "{'status': array(['H', 'O', 'X'], dtype=object)}"
      ]
     },
     "execution_count": 73,
     "metadata": {},
     "output_type": "execute_result"
    }
   ],
   "source": [
    "read_file = f\"s3://{BUCKET_NAME}/{fname}.parquet\"\n",
    "pf = ParquetFile(read_file, open_with=myopen)\n",
    "\n",
    "# Check the categories for a specific row group\n",
    "pf.grab_cats(columns='status', row_group_index=1)"
   ]
  },
  {
   "cell_type": "code",
   "execution_count": 66,
   "metadata": {},
   "outputs": [
    {
     "data": {
      "text/plain": [
       "{}"
      ]
     },
     "execution_count": 66,
     "metadata": {},
     "output_type": "execute_result"
    }
   ],
   "source": [
    "# If partitioning by column, gives known values for each column\n",
    "pf.cats"
   ]
  },
  {
   "cell_type": "markdown",
   "metadata": {},
   "source": [
    "#### Possible solutions\n",
    "1. Remove partitioning by date column when writing to parquet\n",
    "2. Set status categories manually via `set_categories`. (and any other columns with the same issue.  See https://github.com/dask/dask/issues/2944\n",
    "3. Leave problem columns as text-based when writing and loading from parquet"
   ]
  },
  {
   "cell_type": "markdown",
   "metadata": {},
   "source": [
    "# Testing timestamps for file loading"
   ]
  },
  {
   "cell_type": "code",
   "execution_count": 9,
   "metadata": {},
   "outputs": [],
   "source": [
    "read_file = f\"s3://{BUCKET_NAME}/{fname}.parquet\"\n",
    "pf = ParquetFile(read_file, open_with=myopen)\n",
    "test = pf.to_pandas()[\"timestamp\"]"
   ]
  },
  {
   "cell_type": "code",
   "execution_count": 100,
   "metadata": {},
   "outputs": [
    {
     "name": "stderr",
     "output_type": "stream",
     "text": [
      "/Users/paul/anaconda3/lib/python3.7/site-packages/ipykernel_launcher.py:2: FutureWarning: Converting timezone-aware DatetimeArray to timezone-naive ndarray with 'datetime64[ns]' dtype. In the future, this will return an ndarray with 'object' dtype where each element is a 'pandas.Timestamp' with the correct 'tz'.\n",
      "\tTo accept the future behavior, pass 'dtype=object'.\n",
      "\tTo keep the old behavior, pass 'dtype=\"datetime64[ns]\"'.\n",
      "  \n"
     ]
    }
   ],
   "source": [
    "# If needed: to convert for categorical datetime to regular datetime\n",
    "df[\"timestamp\"] = pd.to_datetime(pd.Series(np.asarray(df[\"timestamp\"])))"
   ]
  },
  {
   "cell_type": "code",
   "execution_count": 101,
   "metadata": {},
   "outputs": [],
   "source": [
    "test.dt = test.dt.tz_convert(tz= 'America/Vancouver')"
   ]
  },
  {
   "cell_type": "markdown",
   "metadata": {},
   "source": [
    "/Users/paul/anaconda3/lib/python3.7/site-packages/pandas/core/series.py:597: FutureWarning: Converting timezone-aware DatetimeArray to timezone-naive ndarray with 'datetime64[ns]' dtype. In the future, this will return an ndarray with 'object' dtype where each element is a 'pandas.Timestamp' with the correct 'tz'.\n",
    "\tTo accept the future behavior, pass 'dtype=object'.\n",
    "\tTo keep the old behavior, pass 'dtype=\"datetime64[ns]\"'.\n",
    "\n",
    "\n",
    "more info: https://pandas-docs.github.io/pandas-docs-travis/whatsnew/v0.24.0.html#converting-timezone-aware-series-and-index-to-numpy-arrays"
   ]
  },
  {
   "cell_type": "code",
   "execution_count": 102,
   "metadata": {},
   "outputs": [
    {
     "data": {
      "text/plain": [
       "liftID        category\n",
       "resortID      category\n",
       "liftName      category\n",
       "status        category\n",
       "timeToRide       int64\n",
       "timestamp     category\n",
       "dtype: object"
      ]
     },
     "execution_count": 102,
     "metadata": {},
     "output_type": "execute_result"
    }
   ],
   "source": [
    "load_dataframe_from_parquet_on_s3(fname).dtypes"
   ]
  },
  {
   "cell_type": "markdown",
   "metadata": {},
   "source": [
    "### Testing local parquet saves"
   ]
  },
  {
   "cell_type": "code",
   "execution_count": null,
   "metadata": {},
   "outputs": [],
   "source": [
    "def save_parquet(df, fname):\n",
    "    # parquet engines don't handle shifted timezones\n",
    "    df.loc[:, 'timestamp'] = df.loc[:, 'timestamp'].dt.tz_convert(pytz.utc)\n",
    "\n",
    "    # Note: May need snappy-python as a req to run on AWS Lambda\n",
    "    df.to_parquet(DATA_DIR + fname + '.parquet',\n",
    "                  engine='fastparquet',\n",
    "                  partition_on=['timestamp'],\n",
    "                  file_scheme='mixed')"
   ]
  },
  {
   "cell_type": "code",
   "execution_count": 91,
   "metadata": {},
   "outputs": [],
   "source": [
    "save_parquet(df[0:3].copy(), 'wb_lifts_history')"
   ]
  },
  {
   "cell_type": "code",
   "execution_count": 92,
   "metadata": {},
   "outputs": [],
   "source": [
    "df.iloc[20:22, :].copy().to_parquet(DATA_DIR + 'wb_lifts_history' + '.parquet',\n",
    "              engine='fastparquet',\n",
    "              partition_on=['timestamp'],\n",
    "              file_scheme='mixed',\n",
    "              append=True)\n",
    "# Catch exception that is doesn't exist here"
   ]
  },
  {
   "cell_type": "code",
   "execution_count": null,
   "metadata": {},
   "outputs": [],
   "source": [
    "# todo: change time_diff to \"duration\"\n",
    "# test on lambda\n",
    "# make datatype dict for and general set datatypes function\n"
   ]
  }
 ],
 "metadata": {
  "hide_input": false,
  "kernelspec": {
   "display_name": "Python (base)",
   "language": "python",
   "name": "base"
  },
  "language_info": {
   "codemirror_mode": {
    "name": "ipython",
    "version": 3
   },
   "file_extension": ".py",
   "mimetype": "text/x-python",
   "name": "python",
   "nbconvert_exporter": "python",
   "pygments_lexer": "ipython3",
   "version": "3.7.3"
  },
  "varInspector": {
   "cols": {
    "lenName": 16,
    "lenType": 16,
    "lenVar": 40
   },
   "kernels_config": {
    "python": {
     "delete_cmd_postfix": "",
     "delete_cmd_prefix": "del ",
     "library": "var_list.py",
     "varRefreshCmd": "print(var_dic_list())"
    },
    "r": {
     "delete_cmd_postfix": ") ",
     "delete_cmd_prefix": "rm(",
     "library": "var_list.r",
     "varRefreshCmd": "cat(var_dic_list()) "
    }
   },
   "position": {
    "height": "437px",
    "left": "869px",
    "right": "20px",
    "top": "120px",
    "width": "391px"
   },
   "types_to_exclude": [
    "module",
    "function",
    "builtin_function_or_method",
    "instance",
    "_Feature"
   ],
   "window_display": false
  }
 },
 "nbformat": 4,
 "nbformat_minor": 2
}
