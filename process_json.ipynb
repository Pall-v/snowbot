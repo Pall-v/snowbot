{
 "cells": [
  {
   "cell_type": "code",
   "execution_count": 1,
   "metadata": {},
   "outputs": [],
   "source": [
    "import json, glob, boto3\n",
    "import pdb"
   ]
  },
  {
   "cell_type": "code",
   "execution_count": null,
   "metadata": {},
   "outputs": [],
   "source": [
    "def get_matching_s3_objects(bucket, prefix=\"\", suffix=\"\"):\n",
    "    \"\"\"\n",
    "    Generate objects in an S3 bucket.\n",
    "\n",
    "    :param bucket: Name of the S3 bucket.\n",
    "    :param prefix: Only fetch objects whose key starts with\n",
    "        this prefix (optional).\n",
    "    :param suffix: Only fetch objects whose keys end with\n",
    "        this suffix (optional).\n",
    "    \"\"\"\n",
    "    s3 = boto3.client(\"s3\")\n",
    "    paginator = s3.get_paginator(\"list_objects_v2\")\n",
    "\n",
    "    kwargs = {'Bucket': bucket}\n",
    "\n",
    "    # We can pass the prefix directly to the S3 API.  If the user has passed\n",
    "    # a tuple or list of prefixes, we go through them one by one.\n",
    "    if isinstance(prefix, str):\n",
    "        prefixes = (prefix, )\n",
    "    else:\n",
    "        prefixes = prefix\n",
    "\n",
    "    for key_prefix in prefixes:\n",
    "        kwargs[\"Prefix\"] = key_prefix\n",
    "\n",
    "        for page in paginator.paginate(**kwargs):\n",
    "            try:\n",
    "                contents = page[\"Contents\"]\n",
    "            except KeyError:\n",
    "                return\n",
    "\n",
    "            for obj in contents:\n",
    "                key = obj[\"Key\"]\n",
    "                if key.endswith(suffix):\n",
    "                    yield obj\n",
    "\n",
    "\n",
    "def get_matching_s3_keys(bucket, prefix=\"\", suffix=\"\"):\n",
    "    \"\"\"\n",
    "    Generate the keys in an S3 bucket.\n",
    "\n",
    "    :param bucket: Name of the S3 bucket.\n",
    "    :param prefix: Only fetch keys that start with this prefix (optional).\n",
    "    :param suffix: Only fetch keys that end with this suffix (optional).\n",
    "    \"\"\"\n",
    "    for obj in get_matching_s3_objects(bucket, prefix, suffix):\n",
    "        yield obj[\"Key\"]"
   ]
  },
  {
   "cell_type": "code",
   "execution_count": null,
   "metadata": {},
   "outputs": [],
   "source": [
    "session = boto3.Session()\n",
    "BUCKET_NAME = 'snowbot-pv'\n",
    "\n",
    "# S3 Connect\n",
    "s3 = session.resource('s3')\n",
    "\n",
    "bucket = s3.Bucket(BUCKET_NAME)"
   ]
  },
  {
   "cell_type": "code",
   "execution_count": null,
   "metadata": {},
   "outputs": [],
   "source": [
    "result = []\n",
    "\n",
    "for f in get_matching_s3_keys(BUCKET_NAME, suffix=\".json\"):\n",
    "    \n",
    "    # Write the file from S3 into a local temp file\n",
    "    with open('temp', 'wb') as tfw:\n",
    "        bucket.download_fileobj(f, tfw)\n",
    "\n",
    "    # Append the local temp file into the result list\n",
    "    with open('temp', 'rb') as tfr:          \n",
    "        result.append(json.load(tfr))"
   ]
  },
  {
   "cell_type": "code",
   "execution_count": 209,
   "metadata": {},
   "outputs": [],
   "source": [
    "with open(\"merged_file.json\", \"w\") as outfile:    #filling the resultant file with Jason content\n",
    "     json.dump(result, outfile)                 #json.dump will fill output file with merged data"
   ]
  },
  {
   "cell_type": "code",
   "execution_count": 195,
   "metadata": {},
   "outputs": [],
   "source": [
    "with open('temp_new', 'wb') as tfn:\n",
    "    bucket.download_fileobj(\"2020_01_01_21_48_wb_lifts.json\", tfn)\n",
    "    \n",
    "    #print(json.load(tfn))\n",
    "    #print(tfn.read())"
   ]
  },
  {
   "cell_type": "code",
   "execution_count": 197,
   "metadata": {},
   "outputs": [
    {
     "name": "stdout",
     "output_type": "stream",
     "text": [
      "{'timestamp': '2020-01-01 21:48:49.440097', 'lifts': [{'liftID': 69, 'resortID': 13, 'liftName': 'Blackcomb Gondola Lower', 'status': 'X', 'timeToRide': '7'}, {'liftID': 70, 'resortID': 13, 'liftName': 'Blackcomb Gondola Upper', 'status': 'X', 'timeToRide': '7'}, {'liftID': 5, 'resortID': 13, 'liftName': 'Excalibur Gondola Lower', 'status': 'X', 'timeToRide': '3'}, {'liftID': 71, 'resortID': 13, 'liftName': 'Excalibur Gondola Upper', 'status': 'X', 'timeToRide': '5'}, {'liftID': 8, 'resortID': 13, 'liftName': 'Excelerator Express', 'status': 'X', 'timeToRide': '6'}, {'liftID': 6, 'resortID': 13, 'liftName': 'Magic Chair', 'status': 'X', 'timeToRide': '6'}, {'liftID': 4, 'resortID': 13, 'liftName': 'Jersey Cream Express', 'status': 'X', 'timeToRide': '5'}, {'liftID': 9, 'resortID': 13, 'liftName': 'Catskinner Express', 'status': 'X', 'timeToRide': '4'}, {'liftID': 22, 'resortID': 13, 'liftName': 'Peak 2 Peak Gondola', 'status': 'X', 'timeToRide': '12'}, {'liftID': 10, 'resortID': 13, 'liftName': 'Crystal Ridge Express', 'status': 'X', 'timeToRide': '7'}, {'liftID': 7, 'resortID': 13, 'liftName': 'Glacier Express', 'status': 'X', 'timeToRide': '6'}, {'liftID': 3, 'resortID': 13, 'liftName': '7th Heaven Express', 'status': 'X', 'timeToRide': '6'}, {'liftID': 12, 'resortID': 13, 'liftName': 'Showcase T-Bar', 'status': 'X', 'timeToRide': '3'}, {'liftID': 11, 'resortID': 13, 'liftName': 'Horstman T-Bar', 'status': 'X', 'timeToRide': '4'}, {'liftID': 14, 'resortID': 13, 'liftName': 'Coca-Cola Tube Park', 'status': 'X', 'timeToRide': '4'}, {'liftID': 33, 'resortID': 13, 'liftName': 'Whistler Village Gondola Lower', 'status': 'X', 'timeToRide': '5'}, {'liftID': 72, 'resortID': 13, 'liftName': 'Whistler Village Gondola Upper', 'status': 'X', 'timeToRide': '11'}, {'liftID': 45, 'resortID': 13, 'liftName': 'Fitzsimmons Express', 'status': 'X', 'timeToRide': '6'}, {'liftID': 40, 'resortID': 13, 'liftName': 'Garbanzo Express', 'status': 'X', 'timeToRide': '7'}, {'liftID': 34, 'resortID': 13, 'liftName': 'Creekside Gondola', 'status': 'X', 'timeToRide': '7'}, {'liftID': 36, 'resortID': 13, 'liftName': 'Big Red Express', 'status': 'X', 'timeToRide': '8'}, {'liftID': 35, 'resortID': 13, 'liftName': 'Emerald 6 Express', 'status': 'X', 'timeToRide': '6'}, {'liftID': 22, 'resortID': 13, 'liftName': 'Peak 2 Peak Gondola', 'status': 'X', 'timeToRide': '12'}, {'liftID': 39, 'resortID': 13, 'liftName': 'Olympic Chair', 'status': 'X', 'timeToRide': '5'}, {'liftID': 44, 'resortID': 13, 'liftName': \"Franz's Chair\", 'status': 'X', 'timeToRide': '8'}, {'liftID': 43, 'resortID': 13, 'liftName': 'Peak Express', 'status': 'X', 'timeToRide': '3'}, {'liftID': 37, 'resortID': 13, 'liftName': 'Harmony 6 Express', 'status': 'X', 'timeToRide': '6'}, {'liftID': 42, 'resortID': 13, 'liftName': 'Symphony Express', 'status': 'X', 'timeToRide': '7'}, {'liftID': 41, 'resortID': 13, 'liftName': 'T-Bars', 'status': 'X', 'timeToRide': '5'}]}\n"
     ]
    }
   ],
   "source": [
    "with open('temp_new', 'rb') as test:\n",
    "    print(json.load(test))"
   ]
  },
  {
   "cell_type": "code",
   "execution_count": 172,
   "metadata": {},
   "outputs": [
    {
     "name": "stdout",
     "output_type": "stream",
     "text": [
      "<class '_io.TextIOWrapper'>\n",
      "{\"timestamp\": \"2020-01-01 21:48:49.440097\", \"lifts\": [{\"liftID\": 69, \"resortID\": 13, \"liftName\": \"Blackcomb Gondola Lower\", \"status\": \"X\", \"timeToRide\": \"7\"}, {\"liftID\": 70, \"resortID\": 13, \"liftName\": \"Blackcomb Gondola Upper\", \"status\": \"X\", \"timeToRide\": \"7\"}, {\"liftID\": 5, \"resortID\": 13, \"liftName\": \"Excalibur Gondola Lower\", \"status\": \"X\", \"timeToRide\": \"3\"}, {\"liftID\": 71, \"resortID\": 13, \"liftName\": \"Excalibur Gondola Upper\", \"status\": \"X\", \"timeToRide\": \"5\"}, {\"liftID\": 8, \"resortID\": 13, \"liftName\": \"Excelerator Express\", \"status\": \"X\", \"timeToRide\": \"6\"}, {\"liftID\": 6, \"resortID\": 13, \"liftName\": \"Magic Chair\", \"status\": \"X\", \"timeToRide\": \"6\"}, {\"liftID\": 4, \"resortID\": 13, \"liftName\": \"Jersey Cream Express\", \"status\": \"X\", \"timeToRide\": \"5\"}, {\"liftID\": 9, \"resortID\": 13, \"liftName\": \"Catskinner Express\", \"status\": \"X\", \"timeToRide\": \"4\"}, {\"liftID\": 22, \"resortID\": 13, \"liftName\": \"Peak 2 Peak Gondola\", \"status\": \"X\", \"timeToRide\": \"12\"}, {\"liftID\": 10, \"resortID\": 13, \"liftName\": \"Crystal Ridge Express\", \"status\": \"X\", \"timeToRide\": \"7\"}, {\"liftID\": 7, \"resortID\": 13, \"liftName\": \"Glacier Express\", \"status\": \"X\", \"timeToRide\": \"6\"}, {\"liftID\": 3, \"resortID\": 13, \"liftName\": \"7th Heaven Express\", \"status\": \"X\", \"timeToRide\": \"6\"}, {\"liftID\": 12, \"resortID\": 13, \"liftName\": \"Showcase T-Bar\", \"status\": \"X\", \"timeToRide\": \"3\"}, {\"liftID\": 11, \"resortID\": 13, \"liftName\": \"Horstman T-Bar\", \"status\": \"X\", \"timeToRide\": \"4\"}, {\"liftID\": 14, \"resortID\": 13, \"liftName\": \"Coca-Cola Tube Park\", \"status\": \"X\", \"timeToRide\": \"4\"}, {\"liftID\": 33, \"resortID\": 13, \"liftName\": \"Whistler Village Gondola Lower\", \"status\": \"X\", \"timeToRide\": \"5\"}, {\"liftID\": 72, \"resortID\": 13, \"liftName\": \"Whistler Village Gondola Upper\", \"status\": \"X\", \"timeToRide\": \"11\"}, {\"liftID\": 45, \"resortID\": 13, \"liftName\": \"Fitzsimmons Express\", \"status\": \"X\", \"timeToRide\": \"6\"}, {\"liftID\": 40, \"resortID\": 13, \"liftName\": \"Garbanzo Express\", \"status\": \"X\", \"timeToRide\": \"7\"}, {\"liftID\": 34, \"resortID\": 13, \"liftName\": \"Creekside Gondola\", \"status\": \"X\", \"timeToRide\": \"7\"}, {\"liftID\": 36, \"resortID\": 13, \"liftName\": \"Big Red Express\", \"status\": \"X\", \"timeToRide\": \"8\"}, {\"liftID\": 35, \"resortID\": 13, \"liftName\": \"Emerald 6 Express\", \"status\": \"X\", \"timeToRide\": \"6\"}, {\"liftID\": 22, \"resortID\": 13, \"liftName\": \"Peak 2 Peak Gondola\", \"status\": \"X\", \"timeToRide\": \"12\"}, {\"liftID\": 39, \"resortID\": 13, \"liftName\": \"Olympic Chair\", \"status\": \"X\", \"timeToRide\": \"5\"}, {\"liftID\": 44, \"resortID\": 13, \"liftName\": \"Franz\"s Chair\", \"status\": \"X\", \"timeToRide\": \"8\"}, {\"liftID\": 43, \"resortID\": 13, \"liftName\": \"Peak Express\", \"status\": \"X\", \"timeToRide\": \"3\"}, {\"liftID\": 37, \"resortID\": 13, \"liftName\": \"Harmony 6 Express\", \"status\": \"X\", \"timeToRide\": \"6\"}, {\"liftID\": 42, \"resortID\": 13, \"liftName\": \"Symphony Express\", \"status\": \"X\", \"timeToRide\": \"7\"}, {\"liftID\": 41, \"resortID\": 13, \"liftName\": \"T-Bars\", \"status\": \"X\", \"timeToRide\": \"5\"}]}\n",
      "\n"
     ]
    },
    {
     "ename": "JSONDecodeError",
     "evalue": "Expecting value: line 1 column 1 (char 0)",
     "output_type": "error",
     "traceback": [
      "\u001b[0;31m---------------------------------------------------------------------------\u001b[0m",
      "\u001b[0;31mJSONDecodeError\u001b[0m                           Traceback (most recent call last)",
      "\u001b[0;32m<ipython-input-172-d1f156fdf487>\u001b[0m in \u001b[0;36m<module>\u001b[0;34m\u001b[0m\n\u001b[1;32m     10\u001b[0m     \u001b[0mtfn_json\u001b[0m \u001b[0;34m=\u001b[0m \u001b[0mstr\u001b[0m\u001b[0;34m(\u001b[0m\u001b[0mtfn\u001b[0m\u001b[0;34m.\u001b[0m\u001b[0mread\u001b[0m\u001b[0;34m(\u001b[0m\u001b[0;34m)\u001b[0m\u001b[0;34m)\u001b[0m \u001b[0;31m#.strip(\"'<>() \").replace('\\'', '\\\"')\u001b[0m\u001b[0;34m\u001b[0m\u001b[0;34m\u001b[0m\u001b[0m\n\u001b[1;32m     11\u001b[0m     \u001b[0mprint\u001b[0m\u001b[0;34m(\u001b[0m\u001b[0mtfn_json\u001b[0m\u001b[0;34m)\u001b[0m\u001b[0;34m\u001b[0m\u001b[0;34m\u001b[0m\u001b[0m\n\u001b[0;32m---> 12\u001b[0;31m     \u001b[0mprint\u001b[0m\u001b[0;34m(\u001b[0m\u001b[0mjson\u001b[0m\u001b[0;34m.\u001b[0m\u001b[0mloads\u001b[0m\u001b[0;34m(\u001b[0m\u001b[0mtfn_json\u001b[0m\u001b[0;34m)\u001b[0m\u001b[0;34m)\u001b[0m\u001b[0;34m\u001b[0m\u001b[0;34m\u001b[0m\u001b[0m\n\u001b[0m",
      "\u001b[0;32m~/anaconda3/lib/python3.7/json/__init__.py\u001b[0m in \u001b[0;36mloads\u001b[0;34m(s, encoding, cls, object_hook, parse_float, parse_int, parse_constant, object_pairs_hook, **kw)\u001b[0m\n\u001b[1;32m    346\u001b[0m             \u001b[0mparse_int\u001b[0m \u001b[0;32mis\u001b[0m \u001b[0;32mNone\u001b[0m \u001b[0;32mand\u001b[0m \u001b[0mparse_float\u001b[0m \u001b[0;32mis\u001b[0m \u001b[0;32mNone\u001b[0m \u001b[0;32mand\u001b[0m\u001b[0;34m\u001b[0m\u001b[0;34m\u001b[0m\u001b[0m\n\u001b[1;32m    347\u001b[0m             parse_constant is None and object_pairs_hook is None and not kw):\n\u001b[0;32m--> 348\u001b[0;31m         \u001b[0;32mreturn\u001b[0m \u001b[0m_default_decoder\u001b[0m\u001b[0;34m.\u001b[0m\u001b[0mdecode\u001b[0m\u001b[0;34m(\u001b[0m\u001b[0ms\u001b[0m\u001b[0;34m)\u001b[0m\u001b[0;34m\u001b[0m\u001b[0;34m\u001b[0m\u001b[0m\n\u001b[0m\u001b[1;32m    349\u001b[0m     \u001b[0;32mif\u001b[0m \u001b[0mcls\u001b[0m \u001b[0;32mis\u001b[0m \u001b[0;32mNone\u001b[0m\u001b[0;34m:\u001b[0m\u001b[0;34m\u001b[0m\u001b[0;34m\u001b[0m\u001b[0m\n\u001b[1;32m    350\u001b[0m         \u001b[0mcls\u001b[0m \u001b[0;34m=\u001b[0m \u001b[0mJSONDecoder\u001b[0m\u001b[0;34m\u001b[0m\u001b[0;34m\u001b[0m\u001b[0m\n",
      "\u001b[0;32m~/anaconda3/lib/python3.7/json/decoder.py\u001b[0m in \u001b[0;36mdecode\u001b[0;34m(self, s, _w)\u001b[0m\n\u001b[1;32m    335\u001b[0m \u001b[0;34m\u001b[0m\u001b[0m\n\u001b[1;32m    336\u001b[0m         \"\"\"\n\u001b[0;32m--> 337\u001b[0;31m         \u001b[0mobj\u001b[0m\u001b[0;34m,\u001b[0m \u001b[0mend\u001b[0m \u001b[0;34m=\u001b[0m \u001b[0mself\u001b[0m\u001b[0;34m.\u001b[0m\u001b[0mraw_decode\u001b[0m\u001b[0;34m(\u001b[0m\u001b[0ms\u001b[0m\u001b[0;34m,\u001b[0m \u001b[0midx\u001b[0m\u001b[0;34m=\u001b[0m\u001b[0m_w\u001b[0m\u001b[0;34m(\u001b[0m\u001b[0ms\u001b[0m\u001b[0;34m,\u001b[0m \u001b[0;36m0\u001b[0m\u001b[0;34m)\u001b[0m\u001b[0;34m.\u001b[0m\u001b[0mend\u001b[0m\u001b[0;34m(\u001b[0m\u001b[0;34m)\u001b[0m\u001b[0;34m)\u001b[0m\u001b[0;34m\u001b[0m\u001b[0;34m\u001b[0m\u001b[0m\n\u001b[0m\u001b[1;32m    338\u001b[0m         \u001b[0mend\u001b[0m \u001b[0;34m=\u001b[0m \u001b[0m_w\u001b[0m\u001b[0;34m(\u001b[0m\u001b[0ms\u001b[0m\u001b[0;34m,\u001b[0m \u001b[0mend\u001b[0m\u001b[0;34m)\u001b[0m\u001b[0;34m.\u001b[0m\u001b[0mend\u001b[0m\u001b[0;34m(\u001b[0m\u001b[0;34m)\u001b[0m\u001b[0;34m\u001b[0m\u001b[0;34m\u001b[0m\u001b[0m\n\u001b[1;32m    339\u001b[0m         \u001b[0;32mif\u001b[0m \u001b[0mend\u001b[0m \u001b[0;34m!=\u001b[0m \u001b[0mlen\u001b[0m\u001b[0;34m(\u001b[0m\u001b[0ms\u001b[0m\u001b[0;34m)\u001b[0m\u001b[0;34m:\u001b[0m\u001b[0;34m\u001b[0m\u001b[0;34m\u001b[0m\u001b[0m\n",
      "\u001b[0;32m~/anaconda3/lib/python3.7/json/decoder.py\u001b[0m in \u001b[0;36mraw_decode\u001b[0;34m(self, s, idx)\u001b[0m\n\u001b[1;32m    353\u001b[0m             \u001b[0mobj\u001b[0m\u001b[0;34m,\u001b[0m \u001b[0mend\u001b[0m \u001b[0;34m=\u001b[0m \u001b[0mself\u001b[0m\u001b[0;34m.\u001b[0m\u001b[0mscan_once\u001b[0m\u001b[0;34m(\u001b[0m\u001b[0ms\u001b[0m\u001b[0;34m,\u001b[0m \u001b[0midx\u001b[0m\u001b[0;34m)\u001b[0m\u001b[0;34m\u001b[0m\u001b[0;34m\u001b[0m\u001b[0m\n\u001b[1;32m    354\u001b[0m         \u001b[0;32mexcept\u001b[0m \u001b[0mStopIteration\u001b[0m \u001b[0;32mas\u001b[0m \u001b[0merr\u001b[0m\u001b[0;34m:\u001b[0m\u001b[0;34m\u001b[0m\u001b[0;34m\u001b[0m\u001b[0m\n\u001b[0;32m--> 355\u001b[0;31m             \u001b[0;32mraise\u001b[0m \u001b[0mJSONDecodeError\u001b[0m\u001b[0;34m(\u001b[0m\u001b[0;34m\"Expecting value\"\u001b[0m\u001b[0;34m,\u001b[0m \u001b[0ms\u001b[0m\u001b[0;34m,\u001b[0m \u001b[0merr\u001b[0m\u001b[0;34m.\u001b[0m\u001b[0mvalue\u001b[0m\u001b[0;34m)\u001b[0m \u001b[0;32mfrom\u001b[0m \u001b[0;32mNone\u001b[0m\u001b[0;34m\u001b[0m\u001b[0;34m\u001b[0m\u001b[0m\n\u001b[0m\u001b[1;32m    356\u001b[0m         \u001b[0;32mreturn\u001b[0m \u001b[0mobj\u001b[0m\u001b[0;34m,\u001b[0m \u001b[0mend\u001b[0m\u001b[0;34m\u001b[0m\u001b[0;34m\u001b[0m\u001b[0m\n",
      "\u001b[0;31mJSONDecodeError\u001b[0m: Expecting value: line 1 column 1 (char 0)"
     ]
    }
   ],
   "source": [
    "    \n",
    "with open('temp_new', 'r') as tfn:\n",
    "    print(type(tfn))\n",
    "    print(tfn.read().strip(\"'<>() \").replace('\\'', '\\\"'))\n",
    "    tfn_json = str(tfn.read()) #.strip(\"'<>() \").replace('\\'', '\\\"')\n",
    "    print(tfn_json)\n",
    "    print(json.loads(tfn_json))"
   ]
  },
  {
   "cell_type": "code",
   "execution_count": 185,
   "metadata": {},
   "outputs": [
    {
     "data": {
      "text/plain": [
       "'b\"{\"timestamp\": \"2020-01-01 21:48:49.440097\", \"lifts\": [{\"liftID\": 69, \"resortID\": 13, \"liftName\": \"Blackcomb Gondola Lower\", \"status\": \"X\", \"timeToRide\": \"7\"}, {\"liftID\": 70, \"resortID\": 13, \"liftName\": \"Blackcomb Gondola Upper\", \"status\": \"X\", \"timeToRide\": \"7\"}, {\"liftID\": 5, \"resortID\": 13, \"liftName\": \"Excalibur Gondola Lower\", \"status\": \"X\", \"timeToRide\": \"3\"}, {\"liftID\": 71, \"resortID\": 13, \"liftName\": \"Excalibur Gondola Upper\", \"status\": \"X\", \"timeToRide\": \"5\"}, {\"liftID\": 8, \"resortID\": 13, \"liftName\": \"Excelerator Express\", \"status\": \"X\", \"timeToRide\": \"6\"}, {\"liftID\": 6, \"resortID\": 13, \"liftName\": \"Magic Chair\", \"status\": \"X\", \"timeToRide\": \"6\"}, {\"liftID\": 4, \"resortID\": 13, \"liftName\": \"Jersey Cream Express\", \"status\": \"X\", \"timeToRide\": \"5\"}, {\"liftID\": 9, \"resortID\": 13, \"liftName\": \"Catskinner Express\", \"status\": \"X\", \"timeToRide\": \"4\"}, {\"liftID\": 22, \"resortID\": 13, \"liftName\": \"Peak 2 Peak Gondola\", \"status\": \"X\", \"timeToRide\": \"12\"}, {\"liftID\": 10, \"resortID\": 13, \"liftName\": \"Crystal Ridge Express\", \"status\": \"X\", \"timeToRide\": \"7\"}, {\"liftID\": 7, \"resortID\": 13, \"liftName\": \"Glacier Express\", \"status\": \"X\", \"timeToRide\": \"6\"}, {\"liftID\": 3, \"resortID\": 13, \"liftName\": \"7th Heaven Express\", \"status\": \"X\", \"timeToRide\": \"6\"}, {\"liftID\": 12, \"resortID\": 13, \"liftName\": \"Showcase T-Bar\", \"status\": \"X\", \"timeToRide\": \"3\"}, {\"liftID\": 11, \"resortID\": 13, \"liftName\": \"Horstman T-Bar\", \"status\": \"X\", \"timeToRide\": \"4\"}, {\"liftID\": 14, \"resortID\": 13, \"liftName\": \"Coca-Cola Tube Park\", \"status\": \"X\", \"timeToRide\": \"4\"}, {\"liftID\": 33, \"resortID\": 13, \"liftName\": \"Whistler Village Gondola Lower\", \"status\": \"X\", \"timeToRide\": \"5\"}, {\"liftID\": 72, \"resortID\": 13, \"liftName\": \"Whistler Village Gondola Upper\", \"status\": \"X\", \"timeToRide\": \"11\"}, {\"liftID\": 45, \"resortID\": 13, \"liftName\": \"Fitzsimmons Express\", \"status\": \"X\", \"timeToRide\": \"6\"}, {\"liftID\": 40, \"resortID\": 13, \"liftName\": \"Garbanzo Express\", \"status\": \"X\", \"timeToRide\": \"7\"}, {\"liftID\": 34, \"resortID\": 13, \"liftName\": \"Creekside Gondola\", \"status\": \"X\", \"timeToRide\": \"7\"}, {\"liftID\": 36, \"resortID\": 13, \"liftName\": \"Big Red Express\", \"status\": \"X\", \"timeToRide\": \"8\"}, {\"liftID\": 35, \"resortID\": 13, \"liftName\": \"Emerald 6 Express\", \"status\": \"X\", \"timeToRide\": \"6\"}, {\"liftID\": 22, \"resortID\": 13, \"liftName\": \"Peak 2 Peak Gondola\", \"status\": \"X\", \"timeToRide\": \"12\"}, {\"liftID\": 39, \"resortID\": 13, \"liftName\": \"Olympic Chair\", \"status\": \"X\", \"timeToRide\": \"5\"}, {\"liftID\": 44, \"resortID\": 13, \"liftName\": \"Franz\\\\\"s Chair\", \"status\": \"X\", \"timeToRide\": \"8\"}, {\"liftID\": 43, \"resortID\": 13, \"liftName\": \"Peak Express\", \"status\": \"X\", \"timeToRide\": \"3\"}, {\"liftID\": 37, \"resortID\": 13, \"liftName\": \"Harmony 6 Express\", \"status\": \"X\", \"timeToRide\": \"6\"}, {\"liftID\": 42, \"resortID\": 13, \"liftName\": \"Symphony Express\", \"status\": \"X\", \"timeToRide\": \"7\"}, {\"liftID\": 41, \"resortID\": 13, \"liftName\": \"T-Bars\", \"status\": \"X\", \"timeToRide\": \"5\"}]}'"
      ]
     },
     "execution_count": 185,
     "metadata": {},
     "output_type": "execute_result"
    }
   ],
   "source": [
    "test = str(test.read())\n",
    "test = test.strip(\"'<>() \").replace('\\'', '\\\"')\n",
    "test.strip('\\'')"
   ]
  },
  {
   "cell_type": "code",
   "execution_count": 168,
   "metadata": {},
   "outputs": [
    {
     "ename": "ValueError",
     "evalue": "I/O operation on closed file.",
     "output_type": "error",
     "traceback": [
      "\u001b[0;31m---------------------------------------------------------------------------\u001b[0m",
      "\u001b[0;31mValueError\u001b[0m                                Traceback (most recent call last)",
      "\u001b[0;32m<ipython-input-168-bf2187f84e25>\u001b[0m in \u001b[0;36m<module>\u001b[0;34m\u001b[0m\n\u001b[0;32m----> 1\u001b[0;31m \u001b[0mprint\u001b[0m\u001b[0;34m(\u001b[0m\u001b[0mtfn\u001b[0m\u001b[0;34m.\u001b[0m\u001b[0mread\u001b[0m\u001b[0;34m(\u001b[0m\u001b[0;34m)\u001b[0m\u001b[0;34m)\u001b[0m\u001b[0;34m\u001b[0m\u001b[0;34m\u001b[0m\u001b[0m\n\u001b[0m",
      "\u001b[0;31mValueError\u001b[0m: I/O operation on closed file."
     ]
    }
   ],
   "source": [
    "print(tfn.read())"
   ]
  },
  {
   "cell_type": "code",
   "execution_count": 146,
   "metadata": {},
   "outputs": [
    {
     "name": "stdout",
     "output_type": "stream",
     "text": [
      "<class 'str'>\n",
      "/Users/paul/Downloads/2020_01_01_21_48_wb_lifts.json\n",
      "{'timestamp': '2020-01-01 21:48:49.440097', 'lifts': [{'liftID': 69, 'resortID': 13, 'liftName': 'Blackcomb Gondola Lower', 'status': 'X', 'timeToRide': '7'}, {'liftID': 70, 'resortID': 13, 'liftName': 'Blackcomb Gondola Upper', 'status': 'X', 'timeToRide': '7'}, {'liftID': 5, 'resortID': 13, 'liftName': 'Excalibur Gondola Lower', 'status': 'X', 'timeToRide': '3'}, {'liftID': 71, 'resortID': 13, 'liftName': 'Excalibur Gondola Upper', 'status': 'X', 'timeToRide': '5'}, {'liftID': 8, 'resortID': 13, 'liftName': 'Excelerator Express', 'status': 'X', 'timeToRide': '6'}, {'liftID': 6, 'resortID': 13, 'liftName': 'Magic Chair', 'status': 'X', 'timeToRide': '6'}, {'liftID': 4, 'resortID': 13, 'liftName': 'Jersey Cream Express', 'status': 'X', 'timeToRide': '5'}, {'liftID': 9, 'resortID': 13, 'liftName': 'Catskinner Express', 'status': 'X', 'timeToRide': '4'}, {'liftID': 22, 'resortID': 13, 'liftName': 'Peak 2 Peak Gondola', 'status': 'X', 'timeToRide': '12'}, {'liftID': 10, 'resortID': 13, 'liftName': 'Crystal Ridge Express', 'status': 'X', 'timeToRide': '7'}, {'liftID': 7, 'resortID': 13, 'liftName': 'Glacier Express', 'status': 'X', 'timeToRide': '6'}, {'liftID': 3, 'resortID': 13, 'liftName': '7th Heaven Express', 'status': 'X', 'timeToRide': '6'}, {'liftID': 12, 'resortID': 13, 'liftName': 'Showcase T-Bar', 'status': 'X', 'timeToRide': '3'}, {'liftID': 11, 'resortID': 13, 'liftName': 'Horstman T-Bar', 'status': 'X', 'timeToRide': '4'}, {'liftID': 14, 'resortID': 13, 'liftName': 'Coca-Cola Tube Park', 'status': 'X', 'timeToRide': '4'}, {'liftID': 33, 'resortID': 13, 'liftName': 'Whistler Village Gondola Lower', 'status': 'X', 'timeToRide': '5'}, {'liftID': 72, 'resortID': 13, 'liftName': 'Whistler Village Gondola Upper', 'status': 'X', 'timeToRide': '11'}, {'liftID': 45, 'resortID': 13, 'liftName': 'Fitzsimmons Express', 'status': 'X', 'timeToRide': '6'}, {'liftID': 40, 'resortID': 13, 'liftName': 'Garbanzo Express', 'status': 'X', 'timeToRide': '7'}, {'liftID': 34, 'resortID': 13, 'liftName': 'Creekside Gondola', 'status': 'X', 'timeToRide': '7'}, {'liftID': 36, 'resortID': 13, 'liftName': 'Big Red Express', 'status': 'X', 'timeToRide': '8'}, {'liftID': 35, 'resortID': 13, 'liftName': 'Emerald 6 Express', 'status': 'X', 'timeToRide': '6'}, {'liftID': 22, 'resortID': 13, 'liftName': 'Peak 2 Peak Gondola', 'status': 'X', 'timeToRide': '12'}, {'liftID': 39, 'resortID': 13, 'liftName': 'Olympic Chair', 'status': 'X', 'timeToRide': '5'}, {'liftID': 44, 'resortID': 13, 'liftName': \"Franz's Chair\", 'status': 'X', 'timeToRide': '8'}, {'liftID': 43, 'resortID': 13, 'liftName': 'Peak Express', 'status': 'X', 'timeToRide': '3'}, {'liftID': 37, 'resortID': 13, 'liftName': 'Harmony 6 Express', 'status': 'X', 'timeToRide': '6'}, {'liftID': 42, 'resortID': 13, 'liftName': 'Symphony Express', 'status': 'X', 'timeToRide': '7'}, {'liftID': 41, 'resortID': 13, 'liftName': 'T-Bars', 'status': 'X', 'timeToRide': '5'}]}\n"
     ]
    }
   ],
   "source": [
    "f = \"/Users/paul/Downloads/2020_01_01_21_48_wb_lifts.json\"\n",
    "\n",
    "with open(f, \"rb+\") as infile:\n",
    "    print(type(f))\n",
    "    print(f)\n",
    "    print(json.load(infile))"
   ]
  },
  {
   "cell_type": "code",
   "execution_count": 68,
   "metadata": {},
   "outputs": [
    {
     "data": {
      "text/plain": [
       "[]"
      ]
     },
     "execution_count": 68,
     "metadata": {},
     "output_type": "execute_result"
    }
   ],
   "source": [
    "result"
   ]
  },
  {
   "cell_type": "code",
   "execution_count": null,
   "metadata": {},
   "outputs": [],
   "source": [
    "test.download_fileobj"
   ]
  },
  {
   "cell_type": "code",
   "execution_count": 9,
   "metadata": {},
   "outputs": [
    {
     "data": {
      "text/plain": [
       "{'ResponseMetadata': {'RequestId': '184604047F22FFA5',\n",
       "  'HostId': 'pDbahna6N4UZWGH3f6aMFrrw00vx3Lc0Cz9ZVDNdXGSTe+axAvvkUiCLs3PwKQaI5vWxymJ4wDs=',\n",
       "  'HTTPStatusCode': 200,\n",
       "  'HTTPHeaders': {'x-amz-id-2': 'pDbahna6N4UZWGH3f6aMFrrw00vx3Lc0Cz9ZVDNdXGSTe+axAvvkUiCLs3PwKQaI5vWxymJ4wDs=',\n",
       "   'x-amz-request-id': '184604047F22FFA5',\n",
       "   'date': 'Thu, 02 Jan 2020 18:13:58 GMT',\n",
       "   'x-amz-bucket-region': 'us-west-2',\n",
       "   'content-type': 'application/xml',\n",
       "   'transfer-encoding': 'chunked',\n",
       "   'server': 'AmazonS3'},\n",
       "  'RetryAttempts': 0},\n",
       " 'IsTruncated': False,\n",
       " 'Marker': '',\n",
       " 'Contents': [{'Key': 'January 01, 2020 21:46wb_lifts.json',\n",
       "   'LastModified': datetime.datetime(2020, 1, 2, 5, 46, 2, tzinfo=tzutc()),\n",
       "   'ETag': '\"05eecf73cad912b8fee16d510465979d\"',\n",
       "   'Size': 2948,\n",
       "   'StorageClass': 'STANDARD',\n",
       "   'Owner': {'DisplayName': 'vial.paul',\n",
       "    'ID': 'dc55c0d2e12dc3724ee87621686dc16731b91d561d60ec19a5ae982ff90d3e10'}},\n",
       "  {'Key': 'January 01, 2020ADD_LABEL_HERE.json',\n",
       "   'LastModified': datetime.datetime(2020, 1, 2, 5, 38, 19, tzinfo=tzutc()),\n",
       "   'ETag': '\"c279c5eeb7e88e458ef0707e97cdc816\"',\n",
       "   'Size': 2948,\n",
       "   'StorageClass': 'STANDARD',\n",
       "   'Owner': {'DisplayName': 'vial.paul',\n",
       "    'ID': 'dc55c0d2e12dc3724ee87621686dc16731b91d561d60ec19a5ae982ff90d3e10'}},\n",
       "  {'Key': 'January 02, 2020ADD_LABEL_HERE.json',\n",
       "   'LastModified': datetime.datetime(2020, 1, 2, 6, 33, 57, tzinfo=tzutc()),\n",
       "   'ETag': '\"a9974d94c743816f9819b31ad0a5a199\"',\n",
       "   'Size': 31170,\n",
       "   'StorageClass': 'STANDARD',\n",
       "   'Owner': {'DisplayName': 'vial.paul',\n",
       "    'ID': 'dc55c0d2e12dc3724ee87621686dc16731b91d561d60ec19a5ae982ff90d3e10'}}],\n",
       " 'Name': 'snowbot-pv',\n",
       " 'Prefix': 'Jan',\n",
       " 'MaxKeys': 1000,\n",
       " 'EncodingType': 'url'}"
      ]
     },
     "execution_count": 9,
     "metadata": {},
     "output_type": "execute_result"
    }
   ],
   "source": [
    "client = boto3.client('s3')\n",
    "client.list_objects(Bucket=BUCKET_NAME, Prefix=\"Jan\")"
   ]
  },
  {
   "cell_type": "code",
   "execution_count": null,
   "metadata": {},
   "outputs": [],
   "source": []
  }
 ],
 "metadata": {
  "hide_input": false,
  "kernelspec": {
   "display_name": "Python (base)",
   "language": "python",
   "name": "base"
  },
  "varInspector": {
   "cols": {
    "lenName": 16,
    "lenType": 16,
    "lenVar": 40
   },
   "kernels_config": {
    "python": {
     "delete_cmd_postfix": "",
     "delete_cmd_prefix": "del ",
     "library": "var_list.py",
     "varRefreshCmd": "print(var_dic_list())"
    },
    "r": {
     "delete_cmd_postfix": ") ",
     "delete_cmd_prefix": "rm(",
     "library": "var_list.r",
     "varRefreshCmd": "cat(var_dic_list()) "
    }
   },
   "position": {
    "height": "437px",
    "left": "869px",
    "right": "20px",
    "top": "120px",
    "width": "391px"
   },
   "types_to_exclude": [
    "module",
    "function",
    "builtin_function_or_method",
    "instance",
    "_Feature"
   ],
   "window_display": false
  }
 },
 "nbformat": 4,
 "nbformat_minor": 2
}
